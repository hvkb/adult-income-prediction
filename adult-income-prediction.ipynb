{
  "nbformat": 4,
  "nbformat_minor": 0,
  "metadata": {
    "colab": {
      "name": "maybedwdm.ipynb",
      "provenance": [],
      "collapsed_sections": [
        "p24fk2IjEPBN"
      ]
    },
    "kernelspec": {
      "display_name": "Python 3",
      "name": "python3"
    }
  },
  "cells": [
    {
      "cell_type": "code",
      "metadata": {
        "id": "4UsL33bsDD7D"
      },
      "source": [
        ""
      ],
      "execution_count": null,
      "outputs": []
    },
    {
      "cell_type": "code",
      "metadata": {
        "id": "Z6zZ3B01Cp4S"
      },
      "source": [
        "import pandas as pd\n",
        "import numpy as np \n",
        "from sklearn.metrics import roc_curve, roc_auc_score"
      ],
      "execution_count": 1,
      "outputs": []
    },
    {
      "cell_type": "code",
      "metadata": {
        "id": "scb1iEtSD9hh"
      },
      "source": [
        "data = pd.read_csv(\"adult.csv\")"
      ],
      "execution_count": 2,
      "outputs": []
    },
    {
      "cell_type": "code",
      "metadata": {
        "id": "BOFY2FEPqKdw"
      },
      "source": [
        "result_table = pd.DataFrame(columns=['classifiers', 'fpr','tpr','auc'])"
      ],
      "execution_count": 3,
      "outputs": []
    },
    {
      "cell_type": "markdown",
      "metadata": {
        "id": "p24fk2IjEPBN"
      },
      "source": [
        "# Data Pre-processing"
      ]
    },
    {
      "cell_type": "code",
      "metadata": {
        "colab": {
          "base_uri": "https://localhost:8080/",
          "height": 419
        },
        "id": "tNh-ly8PEImG",
        "outputId": "f0424d8b-33cb-45e7-c8ea-5dc7a94d128d"
      },
      "source": [
        "data"
      ],
      "execution_count": 4,
      "outputs": [
        {
          "output_type": "execute_result",
          "data": {
            "text/html": [
              "<div>\n",
              "<style scoped>\n",
              "    .dataframe tbody tr th:only-of-type {\n",
              "        vertical-align: middle;\n",
              "    }\n",
              "\n",
              "    .dataframe tbody tr th {\n",
              "        vertical-align: top;\n",
              "    }\n",
              "\n",
              "    .dataframe thead th {\n",
              "        text-align: right;\n",
              "    }\n",
              "</style>\n",
              "<table border=\"1\" class=\"dataframe\">\n",
              "  <thead>\n",
              "    <tr style=\"text-align: right;\">\n",
              "      <th></th>\n",
              "      <th>age</th>\n",
              "      <th>workclass</th>\n",
              "      <th>fnlwgt</th>\n",
              "      <th>education</th>\n",
              "      <th>education.num</th>\n",
              "      <th>marital.status</th>\n",
              "      <th>occupation</th>\n",
              "      <th>relationship</th>\n",
              "      <th>race</th>\n",
              "      <th>sex</th>\n",
              "      <th>capital.gain</th>\n",
              "      <th>capital.loss</th>\n",
              "      <th>hours.per.week</th>\n",
              "      <th>native.country</th>\n",
              "      <th>income</th>\n",
              "    </tr>\n",
              "  </thead>\n",
              "  <tbody>\n",
              "    <tr>\n",
              "      <th>0</th>\n",
              "      <td>90</td>\n",
              "      <td>?</td>\n",
              "      <td>77053</td>\n",
              "      <td>HS-grad</td>\n",
              "      <td>9</td>\n",
              "      <td>Widowed</td>\n",
              "      <td>?</td>\n",
              "      <td>Not-in-family</td>\n",
              "      <td>White</td>\n",
              "      <td>Female</td>\n",
              "      <td>0</td>\n",
              "      <td>4356</td>\n",
              "      <td>40</td>\n",
              "      <td>United-States</td>\n",
              "      <td>&lt;=50K</td>\n",
              "    </tr>\n",
              "    <tr>\n",
              "      <th>1</th>\n",
              "      <td>82</td>\n",
              "      <td>Private</td>\n",
              "      <td>132870</td>\n",
              "      <td>HS-grad</td>\n",
              "      <td>9</td>\n",
              "      <td>Widowed</td>\n",
              "      <td>Exec-managerial</td>\n",
              "      <td>Not-in-family</td>\n",
              "      <td>White</td>\n",
              "      <td>Female</td>\n",
              "      <td>0</td>\n",
              "      <td>4356</td>\n",
              "      <td>18</td>\n",
              "      <td>United-States</td>\n",
              "      <td>&lt;=50K</td>\n",
              "    </tr>\n",
              "    <tr>\n",
              "      <th>2</th>\n",
              "      <td>66</td>\n",
              "      <td>?</td>\n",
              "      <td>186061</td>\n",
              "      <td>Some-college</td>\n",
              "      <td>10</td>\n",
              "      <td>Widowed</td>\n",
              "      <td>?</td>\n",
              "      <td>Unmarried</td>\n",
              "      <td>Black</td>\n",
              "      <td>Female</td>\n",
              "      <td>0</td>\n",
              "      <td>4356</td>\n",
              "      <td>40</td>\n",
              "      <td>United-States</td>\n",
              "      <td>&lt;=50K</td>\n",
              "    </tr>\n",
              "    <tr>\n",
              "      <th>3</th>\n",
              "      <td>54</td>\n",
              "      <td>Private</td>\n",
              "      <td>140359</td>\n",
              "      <td>7th-8th</td>\n",
              "      <td>4</td>\n",
              "      <td>Divorced</td>\n",
              "      <td>Machine-op-inspct</td>\n",
              "      <td>Unmarried</td>\n",
              "      <td>White</td>\n",
              "      <td>Female</td>\n",
              "      <td>0</td>\n",
              "      <td>3900</td>\n",
              "      <td>40</td>\n",
              "      <td>United-States</td>\n",
              "      <td>&lt;=50K</td>\n",
              "    </tr>\n",
              "    <tr>\n",
              "      <th>4</th>\n",
              "      <td>41</td>\n",
              "      <td>Private</td>\n",
              "      <td>264663</td>\n",
              "      <td>Some-college</td>\n",
              "      <td>10</td>\n",
              "      <td>Separated</td>\n",
              "      <td>Prof-specialty</td>\n",
              "      <td>Own-child</td>\n",
              "      <td>White</td>\n",
              "      <td>Female</td>\n",
              "      <td>0</td>\n",
              "      <td>3900</td>\n",
              "      <td>40</td>\n",
              "      <td>United-States</td>\n",
              "      <td>&lt;=50K</td>\n",
              "    </tr>\n",
              "    <tr>\n",
              "      <th>...</th>\n",
              "      <td>...</td>\n",
              "      <td>...</td>\n",
              "      <td>...</td>\n",
              "      <td>...</td>\n",
              "      <td>...</td>\n",
              "      <td>...</td>\n",
              "      <td>...</td>\n",
              "      <td>...</td>\n",
              "      <td>...</td>\n",
              "      <td>...</td>\n",
              "      <td>...</td>\n",
              "      <td>...</td>\n",
              "      <td>...</td>\n",
              "      <td>...</td>\n",
              "      <td>...</td>\n",
              "    </tr>\n",
              "    <tr>\n",
              "      <th>32556</th>\n",
              "      <td>22</td>\n",
              "      <td>Private</td>\n",
              "      <td>310152</td>\n",
              "      <td>Some-college</td>\n",
              "      <td>10</td>\n",
              "      <td>Never-married</td>\n",
              "      <td>Protective-serv</td>\n",
              "      <td>Not-in-family</td>\n",
              "      <td>White</td>\n",
              "      <td>Male</td>\n",
              "      <td>0</td>\n",
              "      <td>0</td>\n",
              "      <td>40</td>\n",
              "      <td>United-States</td>\n",
              "      <td>&lt;=50K</td>\n",
              "    </tr>\n",
              "    <tr>\n",
              "      <th>32557</th>\n",
              "      <td>27</td>\n",
              "      <td>Private</td>\n",
              "      <td>257302</td>\n",
              "      <td>Assoc-acdm</td>\n",
              "      <td>12</td>\n",
              "      <td>Married-civ-spouse</td>\n",
              "      <td>Tech-support</td>\n",
              "      <td>Wife</td>\n",
              "      <td>White</td>\n",
              "      <td>Female</td>\n",
              "      <td>0</td>\n",
              "      <td>0</td>\n",
              "      <td>38</td>\n",
              "      <td>United-States</td>\n",
              "      <td>&lt;=50K</td>\n",
              "    </tr>\n",
              "    <tr>\n",
              "      <th>32558</th>\n",
              "      <td>40</td>\n",
              "      <td>Private</td>\n",
              "      <td>154374</td>\n",
              "      <td>HS-grad</td>\n",
              "      <td>9</td>\n",
              "      <td>Married-civ-spouse</td>\n",
              "      <td>Machine-op-inspct</td>\n",
              "      <td>Husband</td>\n",
              "      <td>White</td>\n",
              "      <td>Male</td>\n",
              "      <td>0</td>\n",
              "      <td>0</td>\n",
              "      <td>40</td>\n",
              "      <td>United-States</td>\n",
              "      <td>&gt;50K</td>\n",
              "    </tr>\n",
              "    <tr>\n",
              "      <th>32559</th>\n",
              "      <td>58</td>\n",
              "      <td>Private</td>\n",
              "      <td>151910</td>\n",
              "      <td>HS-grad</td>\n",
              "      <td>9</td>\n",
              "      <td>Widowed</td>\n",
              "      <td>Adm-clerical</td>\n",
              "      <td>Unmarried</td>\n",
              "      <td>White</td>\n",
              "      <td>Female</td>\n",
              "      <td>0</td>\n",
              "      <td>0</td>\n",
              "      <td>40</td>\n",
              "      <td>United-States</td>\n",
              "      <td>&lt;=50K</td>\n",
              "    </tr>\n",
              "    <tr>\n",
              "      <th>32560</th>\n",
              "      <td>22</td>\n",
              "      <td>Private</td>\n",
              "      <td>201490</td>\n",
              "      <td>HS-grad</td>\n",
              "      <td>9</td>\n",
              "      <td>Never-married</td>\n",
              "      <td>Adm-clerical</td>\n",
              "      <td>Own-child</td>\n",
              "      <td>White</td>\n",
              "      <td>Male</td>\n",
              "      <td>0</td>\n",
              "      <td>0</td>\n",
              "      <td>20</td>\n",
              "      <td>United-States</td>\n",
              "      <td>&lt;=50K</td>\n",
              "    </tr>\n",
              "  </tbody>\n",
              "</table>\n",
              "<p>32561 rows × 15 columns</p>\n",
              "</div>"
            ],
            "text/plain": [
              "       age workclass  fnlwgt  ... hours.per.week  native.country income\n",
              "0       90         ?   77053  ...             40   United-States  <=50K\n",
              "1       82   Private  132870  ...             18   United-States  <=50K\n",
              "2       66         ?  186061  ...             40   United-States  <=50K\n",
              "3       54   Private  140359  ...             40   United-States  <=50K\n",
              "4       41   Private  264663  ...             40   United-States  <=50K\n",
              "...    ...       ...     ...  ...            ...             ...    ...\n",
              "32556   22   Private  310152  ...             40   United-States  <=50K\n",
              "32557   27   Private  257302  ...             38   United-States  <=50K\n",
              "32558   40   Private  154374  ...             40   United-States   >50K\n",
              "32559   58   Private  151910  ...             40   United-States  <=50K\n",
              "32560   22   Private  201490  ...             20   United-States  <=50K\n",
              "\n",
              "[32561 rows x 15 columns]"
            ]
          },
          "metadata": {
            "tags": []
          },
          "execution_count": 4
        }
      ]
    },
    {
      "cell_type": "code",
      "metadata": {
        "colab": {
          "base_uri": "https://localhost:8080/"
        },
        "id": "tQdfwAjkPtZj",
        "outputId": "6b2eba0a-d714-4a16-d220-e25e723257de"
      },
      "source": [
        "#Datatype of columns + checking for NA values. \n",
        "data.info()\n",
        "data.shape"
      ],
      "execution_count": 5,
      "outputs": [
        {
          "output_type": "stream",
          "text": [
            "<class 'pandas.core.frame.DataFrame'>\n",
            "RangeIndex: 32561 entries, 0 to 32560\n",
            "Data columns (total 15 columns):\n",
            " #   Column          Non-Null Count  Dtype \n",
            "---  ------          --------------  ----- \n",
            " 0   age             32561 non-null  int64 \n",
            " 1   workclass       32561 non-null  object\n",
            " 2   fnlwgt          32561 non-null  int64 \n",
            " 3   education       32561 non-null  object\n",
            " 4   education.num   32561 non-null  int64 \n",
            " 5   marital.status  32561 non-null  object\n",
            " 6   occupation      32561 non-null  object\n",
            " 7   relationship    32561 non-null  object\n",
            " 8   race            32561 non-null  object\n",
            " 9   sex             32561 non-null  object\n",
            " 10  capital.gain    32561 non-null  int64 \n",
            " 11  capital.loss    32561 non-null  int64 \n",
            " 12  hours.per.week  32561 non-null  int64 \n",
            " 13  native.country  32561 non-null  object\n",
            " 14  income          32561 non-null  object\n",
            "dtypes: int64(6), object(9)\n",
            "memory usage: 3.7+ MB\n"
          ],
          "name": "stdout"
        },
        {
          "output_type": "execute_result",
          "data": {
            "text/plain": [
              "(32561, 15)"
            ]
          },
          "metadata": {
            "tags": []
          },
          "execution_count": 5
        }
      ]
    },
    {
      "cell_type": "code",
      "metadata": {
        "id": "JeOBaHb_VNkq"
      },
      "source": [
        "# drop unnecessary columns\n",
        "data=data.drop(columns= ['education','fnlwgt','relationship','native.country'])"
      ],
      "execution_count": 6,
      "outputs": []
    },
    {
      "cell_type": "code",
      "metadata": {
        "colab": {
          "base_uri": "https://localhost:8080/"
        },
        "id": "Nqcn1d7ZSHNz",
        "outputId": "4c256226-2996-4c94-bba9-59e6b7a24ea2"
      },
      "source": [
        "# this column has '?' as one of the values, we need to deal with it (remove?)\n",
        "data['workclass'].unique() "
      ],
      "execution_count": 7,
      "outputs": [
        {
          "output_type": "execute_result",
          "data": {
            "text/plain": [
              "array(['?', 'Private', 'State-gov', 'Federal-gov', 'Self-emp-not-inc',\n",
              "       'Self-emp-inc', 'Local-gov', 'Without-pay', 'Never-worked'],\n",
              "      dtype=object)"
            ]
          },
          "metadata": {
            "tags": []
          },
          "execution_count": 7
        }
      ]
    },
    {
      "cell_type": "code",
      "metadata": {
        "colab": {
          "base_uri": "https://localhost:8080/"
        },
        "id": "-yGRZaGvhnaQ",
        "outputId": "373214bd-4b21-4a5a-bca9-497383de6382"
      },
      "source": [
        "# this column has '?' as one of the values, we need to deal with it (remove)\n",
        "data['occupation'].unique()"
      ],
      "execution_count": 8,
      "outputs": [
        {
          "output_type": "execute_result",
          "data": {
            "text/plain": [
              "array(['?', 'Exec-managerial', 'Machine-op-inspct', 'Prof-specialty',\n",
              "       'Other-service', 'Adm-clerical', 'Craft-repair',\n",
              "       'Transport-moving', 'Handlers-cleaners', 'Sales',\n",
              "       'Farming-fishing', 'Tech-support', 'Protective-serv',\n",
              "       'Armed-Forces', 'Priv-house-serv'], dtype=object)"
            ]
          },
          "metadata": {
            "tags": []
          },
          "execution_count": 8
        }
      ]
    },
    {
      "cell_type": "code",
      "metadata": {
        "id": "EKrv_DkaSOic"
      },
      "source": [
        "# replacing '?' with na values so that we can remove later.\n",
        "data['workclass']=data['workclass'].replace('?',np.nan)\n",
        "data['occupation']=data['occupation'].replace('?',np.nan)"
      ],
      "execution_count": 9,
      "outputs": []
    },
    {
      "cell_type": "code",
      "metadata": {
        "colab": {
          "base_uri": "https://localhost:8080/"
        },
        "id": "vZkTsjD4h_C1",
        "outputId": "843f614d-ad2d-47f2-d745-44682fc31d8c"
      },
      "source": [
        "data.isnull().sum() # only 1800+1800 rows have "
      ],
      "execution_count": 10,
      "outputs": [
        {
          "output_type": "execute_result",
          "data": {
            "text/plain": [
              "age                  0\n",
              "workclass         1836\n",
              "education.num        0\n",
              "marital.status       0\n",
              "occupation        1843\n",
              "race                 0\n",
              "sex                  0\n",
              "capital.gain         0\n",
              "capital.loss         0\n",
              "hours.per.week       0\n",
              "income               0\n",
              "dtype: int64"
            ]
          },
          "metadata": {
            "tags": []
          },
          "execution_count": 10
        }
      ]
    },
    {
      "cell_type": "code",
      "metadata": {
        "colab": {
          "base_uri": "https://localhost:8080/",
          "height": 708
        },
        "id": "pRz3NvlyipH5",
        "outputId": "ed47656e-9544-48f9-c291-fdd2f3ccda3a"
      },
      "source": [
        "# visualize missing values\n",
        "# The missing values are only in 2 columns and they mostly seem to overlap. So, we can remove them and not lose too much data. We remove them because occupation is an important column.\n",
        "import missingno as msno \n",
        "msno.matrix(data) "
      ],
      "execution_count": 11,
      "outputs": [
        {
          "output_type": "execute_result",
          "data": {
            "text/plain": [
              "<matplotlib.axes._subplots.AxesSubplot at 0x7f07d4d4a4e0>"
            ]
          },
          "metadata": {
            "tags": []
          },
          "execution_count": 11
        },
        {
          "output_type": "display_data",
          "data": {
            "image/png": "[encoded data removed]",
            "text/plain": [
              "<Figure size 1800x720 with 2 Axes>"
            ]
          },
          "metadata": {
            "tags": [],
            "needs_background": "light"
          }
        }
      ]
    },
    {
      "cell_type": "code",
      "metadata": {
        "colab": {
          "base_uri": "https://localhost:8080/"
        },
        "id": "pWvZzQ70VvfB",
        "outputId": "41ea314f-8ccc-4f0b-beec-5977d0eb1c11"
      },
      "source": [
        "# drop duplicates - less than 30 rows\r\n",
        "data.drop_duplicates(keep = 'first', inplace = True) \r\n",
        "data.shape"
      ],
      "execution_count": 12,
      "outputs": [
        {
          "output_type": "execute_result",
          "data": {
            "text/plain": [
              "(27774, 11)"
            ]
          },
          "metadata": {
            "tags": []
          },
          "execution_count": 12
        }
      ]
    },
    {
      "cell_type": "code",
      "metadata": {
        "colab": {
          "base_uri": "https://localhost:8080/"
        },
        "id": "aRvEU-DpTBhR",
        "outputId": "2d49bf74-8efb-4fe3-e884-e7d4cf67c995"
      },
      "source": [
        "# remove na values\n",
        "data=data.dropna()\n",
        "data.workclass.unique()"
      ],
      "execution_count": 13,
      "outputs": [
        {
          "output_type": "execute_result",
          "data": {
            "text/plain": [
              "array(['Private', 'State-gov', 'Federal-gov', 'Self-emp-not-inc',\n",
              "       'Self-emp-inc', 'Local-gov', 'Without-pay'], dtype=object)"
            ]
          },
          "metadata": {
            "tags": []
          },
          "execution_count": 13
        }
      ]
    },
    {
      "cell_type": "code",
      "metadata": {
        "colab": {
          "base_uri": "https://localhost:8080/"
        },
        "id": "ykL3LGZx4IcP",
        "outputId": "2393039e-4c87-4cb2-cea3-bc111f1c9740"
      },
      "source": [
        "data['workclass'] = np.where(data['workclass'] == 'State-gov' , 'gov', data['workclass'])\n",
        "data['workclass'] = np.where(data['workclass'] == 'Federal-gov' , 'gov', data['workclass'])\n",
        "data['workclass'] = np.where(data['workclass'] == 'Local-gov' , 'gov', data['workclass'])\n",
        "data['workclass'] = np.where(data['workclass'] == 'Private' , 'Private', data['workclass'])\n",
        "data['workclass'] = np.where(data['workclass'] == 'Self-emp-not-inc' , 'self', data['workclass'])\n",
        "data['workclass'] = np.where(data['workclass'] == 'Self-emp-inc' , 'self', data['workclass'])\n",
        "data['workclass'] = np.where(data['workclass'] == 'Without-pay' , 'unemployed', data['workclass'])\n",
        "data.workclass.unique()"
      ],
      "execution_count": 14,
      "outputs": [
        {
          "output_type": "execute_result",
          "data": {
            "text/plain": [
              "array(['Private', 'gov', 'self', 'unemployed'], dtype=object)"
            ]
          },
          "metadata": {
            "tags": []
          },
          "execution_count": 14
        }
      ]
    },
    {
      "cell_type": "code",
      "metadata": {
        "colab": {
          "base_uri": "https://localhost:8080/"
        },
        "id": "RIjDA1hB7Jcm",
        "outputId": "e3181873-3779-44cf-cfb5-808a08e78939"
      },
      "source": [
        "data['marital.status'] = np.where(data['marital.status'] == 'Widowed' , 'divorced/widowed/separated', data['marital.status'])\n",
        "data['marital.status'] = np.where(data['marital.status'] == 'Divorced' , 'divorced/widowed/separated', data['marital.status'])\n",
        "data['marital.status'] = np.where(data['marital.status'] == 'Separated' , 'divorced/widowed/separated', data['marital.status'])\n",
        "data['marital.status'] = np.where(data['marital.status'] == 'Married-civ-spouse' , 'married', data['marital.status'])\n",
        "data['marital.status'] = np.where(data['marital.status'] == 'Married-spouse-absent' , 'married', data['marital.status'])\n",
        "data['marital.status'] = np.where(data['marital.status'] == 'Married-AF-spouse' , 'married', data['marital.status'])\n",
        "data['marital.status'].nunique()"
      ],
      "execution_count": 15,
      "outputs": [
        {
          "output_type": "execute_result",
          "data": {
            "text/plain": [
              "3"
            ]
          },
          "metadata": {
            "tags": []
          },
          "execution_count": 15
        }
      ]
    },
    {
      "cell_type": "code",
      "metadata": {
        "colab": {
          "base_uri": "https://localhost:8080/"
        },
        "id": "HP8g1TDxTQKW",
        "outputId": "f9e0683d-5ce9-4e82-801b-475e7935f2de"
      },
      "source": [
        "# checking attribute information\n",
        "data.info()"
      ],
      "execution_count": 16,
      "outputs": [
        {
          "output_type": "stream",
          "text": [
            "<class 'pandas.core.frame.DataFrame'>\n",
            "Int64Index: 26193 entries, 1 to 32559\n",
            "Data columns (total 11 columns):\n",
            " #   Column          Non-Null Count  Dtype \n",
            "---  ------          --------------  ----- \n",
            " 0   age             26193 non-null  int64 \n",
            " 1   workclass       26193 non-null  object\n",
            " 2   education.num   26193 non-null  int64 \n",
            " 3   marital.status  26193 non-null  object\n",
            " 4   occupation      26193 non-null  object\n",
            " 5   race            26193 non-null  object\n",
            " 6   sex             26193 non-null  object\n",
            " 7   capital.gain    26193 non-null  int64 \n",
            " 8   capital.loss    26193 non-null  int64 \n",
            " 9   hours.per.week  26193 non-null  int64 \n",
            " 10  income          26193 non-null  object\n",
            "dtypes: int64(5), object(6)\n",
            "memory usage: 2.4+ MB\n"
          ],
          "name": "stdout"
        }
      ]
    },
    {
      "cell_type": "code",
      "metadata": {
        "colab": {
          "base_uri": "https://localhost:8080/"
        },
        "id": "EhH2VdpxV4lV",
        "outputId": "8fdf1cab-b8b6-4bc9-91a8-68949f82aad2"
      },
      "source": [
        "data['sex'].unique() "
      ],
      "execution_count": 17,
      "outputs": [
        {
          "output_type": "execute_result",
          "data": {
            "text/plain": [
              "array(['Female', 'Male'], dtype=object)"
            ]
          },
          "metadata": {
            "tags": []
          },
          "execution_count": 17
        }
      ]
    },
    {
      "cell_type": "code",
      "metadata": {
        "id": "Ye_yTAp9WJcS"
      },
      "source": [
        "# making sex col numerical\n",
        "data['sex']=data['sex'].replace('Female',0)\n",
        "data['sex']=data['sex'].replace('Male',1)"
      ],
      "execution_count": 18,
      "outputs": []
    },
    {
      "cell_type": "code",
      "metadata": {
        "id": "YyHC2OTqWrKO"
      },
      "source": [
        "#doing label encoding for categorical/object cols, namely, 'workclass', 'occupaion', 'marital.status' and 'race' \n",
        "# Example, in workclass column it changes:\n",
        "# 'Exec-managerial' to 0,\n",
        "# 'Machine-op-inspct' to 1,\n",
        "# 'Prof-specialty' to 2 (and so on)\n",
        "\n",
        "data['workclass'] = data.workclass.astype('category') \n",
        "data['occupation'] = data.occupation.astype('category')\n",
        "data['occupation'] = data['occupation'].cat.codes\n",
        "data['workclass'] = data['workclass'].cat.codes\n",
        "data['marital.status'] = data['marital.status'].astype('category')\n",
        "data['marital.status'] = data['marital.status'].cat.codes\n",
        "data['race'] = data.workclass.astype('category')\n",
        "data['race'] = data['race'].cat.codes\n"
      ],
      "execution_count": 19,
      "outputs": []
    },
    {
      "cell_type": "code",
      "metadata": {
        "id": "F5tlDpeOZtJY"
      },
      "source": [
        "#We create separate dummy columns for \n",
        "data=pd.get_dummies(data,columns=['sex']) \n",
        "data=pd.get_dummies(data,columns=['marital.status']) \n",
        "data=pd.get_dummies(data,columns=['workclass']) \n"
      ],
      "execution_count": 20,
      "outputs": []
    },
    {
      "cell_type": "code",
      "metadata": {
        "colab": {
          "base_uri": "https://localhost:8080/"
        },
        "id": "BwWX_42qa1ZB",
        "outputId": "af077486-c47b-48cf-e5f3-288ec77caa13"
      },
      "source": [
        "data['income'].unique()"
      ],
      "execution_count": 21,
      "outputs": [
        {
          "output_type": "execute_result",
          "data": {
            "text/plain": [
              "array(['<=50K', '>50K'], dtype=object)"
            ]
          },
          "metadata": {
            "tags": []
          },
          "execution_count": 21
        }
      ]
    },
    {
      "cell_type": "code",
      "metadata": {
        "id": "1OOtkGB5WyYD"
      },
      "source": [
        "# making income (class label) numerical\n",
        "data['income']=data['income'].replace('<=50K',0) \n",
        "data['income']=data['income'].replace('>50K',1)"
      ],
      "execution_count": 22,
      "outputs": []
    },
    {
      "cell_type": "code",
      "metadata": {
        "id": "RAeUSJAAa8D_"
      },
      "source": [
        ""
      ],
      "execution_count": 22,
      "outputs": []
    },
    {
      "cell_type": "code",
      "metadata": {
        "colab": {
          "base_uri": "https://localhost:8080/"
        },
        "id": "T8JPcODea_HC",
        "outputId": "cd3763d0-54f3-42e8-a369-e05cde3d1d39"
      },
      "source": [
        "data.info()"
      ],
      "execution_count": 23,
      "outputs": [
        {
          "output_type": "stream",
          "text": [
            "<class 'pandas.core.frame.DataFrame'>\n",
            "Int64Index: 26193 entries, 1 to 32559\n",
            "Data columns (total 17 columns):\n",
            " #   Column            Non-Null Count  Dtype\n",
            "---  ------            --------------  -----\n",
            " 0   age               26193 non-null  int64\n",
            " 1   education.num     26193 non-null  int64\n",
            " 2   occupation        26193 non-null  int8 \n",
            " 3   race              26193 non-null  int8 \n",
            " 4   capital.gain      26193 non-null  int64\n",
            " 5   capital.loss      26193 non-null  int64\n",
            " 6   hours.per.week    26193 non-null  int64\n",
            " 7   income            26193 non-null  int64\n",
            " 8   sex_0             26193 non-null  uint8\n",
            " 9   sex_1             26193 non-null  uint8\n",
            " 10  marital.status_0  26193 non-null  uint8\n",
            " 11  marital.status_1  26193 non-null  uint8\n",
            " 12  marital.status_2  26193 non-null  uint8\n",
            " 13  workclass_0       26193 non-null  uint8\n",
            " 14  workclass_1       26193 non-null  uint8\n",
            " 15  workclass_2       26193 non-null  uint8\n",
            " 16  workclass_3       26193 non-null  uint8\n",
            "dtypes: int64(6), int8(2), uint8(9)\n",
            "memory usage: 1.7 MB\n"
          ],
          "name": "stdout"
        }
      ]
    },
    {
      "cell_type": "code",
      "metadata": {
        "colab": {
          "base_uri": "https://localhost:8080/",
          "height": 439
        },
        "id": "zU5gC-HQbMvN",
        "outputId": "f52676d3-dada-4afd-b1b1-eea3cbeb7db2"
      },
      "source": [
        "# normalizing using MinMaxScaler\n",
        "from sklearn import preprocessing\n",
        "colnames=list(data.columns.values)\n",
        "x=data\n",
        "min_max_scaler = preprocessing.MinMaxScaler()\n",
        "val = min_max_scaler.fit_transform(x)\n",
        "data = pd.DataFrame(val,columns=colnames)\n",
        "data"
      ],
      "execution_count": 24,
      "outputs": [
        {
          "output_type": "execute_result",
          "data": {
            "text/html": [
              "<div>\n",
              "<style scoped>\n",
              "    .dataframe tbody tr th:only-of-type {\n",
              "        vertical-align: middle;\n",
              "    }\n",
              "\n",
              "    .dataframe tbody tr th {\n",
              "        vertical-align: top;\n",
              "    }\n",
              "\n",
              "    .dataframe thead th {\n",
              "        text-align: right;\n",
              "    }\n",
              "</style>\n",
              "<table border=\"1\" class=\"dataframe\">\n",
              "  <thead>\n",
              "    <tr style=\"text-align: right;\">\n",
              "      <th></th>\n",
              "      <th>age</th>\n",
              "      <th>education.num</th>\n",
              "      <th>occupation</th>\n",
              "      <th>race</th>\n",
              "      <th>capital.gain</th>\n",
              "      <th>capital.loss</th>\n",
              "      <th>hours.per.week</th>\n",
              "      <th>income</th>\n",
              "      <th>sex_0</th>\n",
              "      <th>sex_1</th>\n",
              "      <th>marital.status_0</th>\n",
              "      <th>marital.status_1</th>\n",
              "      <th>marital.status_2</th>\n",
              "      <th>workclass_0</th>\n",
              "      <th>workclass_1</th>\n",
              "      <th>workclass_2</th>\n",
              "      <th>workclass_3</th>\n",
              "    </tr>\n",
              "  </thead>\n",
              "  <tbody>\n",
              "    <tr>\n",
              "      <th>0</th>\n",
              "      <td>0.890411</td>\n",
              "      <td>0.533333</td>\n",
              "      <td>0.230769</td>\n",
              "      <td>0.0</td>\n",
              "      <td>0.0</td>\n",
              "      <td>1.000000</td>\n",
              "      <td>0.173469</td>\n",
              "      <td>0.0</td>\n",
              "      <td>1.0</td>\n",
              "      <td>0.0</td>\n",
              "      <td>0.0</td>\n",
              "      <td>1.0</td>\n",
              "      <td>0.0</td>\n",
              "      <td>1.0</td>\n",
              "      <td>0.0</td>\n",
              "      <td>0.0</td>\n",
              "      <td>0.0</td>\n",
              "    </tr>\n",
              "    <tr>\n",
              "      <th>1</th>\n",
              "      <td>0.506849</td>\n",
              "      <td>0.200000</td>\n",
              "      <td>0.461538</td>\n",
              "      <td>0.0</td>\n",
              "      <td>0.0</td>\n",
              "      <td>0.895317</td>\n",
              "      <td>0.397959</td>\n",
              "      <td>0.0</td>\n",
              "      <td>1.0</td>\n",
              "      <td>0.0</td>\n",
              "      <td>0.0</td>\n",
              "      <td>1.0</td>\n",
              "      <td>0.0</td>\n",
              "      <td>1.0</td>\n",
              "      <td>0.0</td>\n",
              "      <td>0.0</td>\n",
              "      <td>0.0</td>\n",
              "    </tr>\n",
              "    <tr>\n",
              "      <th>2</th>\n",
              "      <td>0.328767</td>\n",
              "      <td>0.600000</td>\n",
              "      <td>0.692308</td>\n",
              "      <td>0.0</td>\n",
              "      <td>0.0</td>\n",
              "      <td>0.895317</td>\n",
              "      <td>0.397959</td>\n",
              "      <td>0.0</td>\n",
              "      <td>1.0</td>\n",
              "      <td>0.0</td>\n",
              "      <td>0.0</td>\n",
              "      <td>1.0</td>\n",
              "      <td>0.0</td>\n",
              "      <td>1.0</td>\n",
              "      <td>0.0</td>\n",
              "      <td>0.0</td>\n",
              "      <td>0.0</td>\n",
              "    </tr>\n",
              "    <tr>\n",
              "      <th>3</th>\n",
              "      <td>0.232877</td>\n",
              "      <td>0.533333</td>\n",
              "      <td>0.538462</td>\n",
              "      <td>0.0</td>\n",
              "      <td>0.0</td>\n",
              "      <td>0.865473</td>\n",
              "      <td>0.448980</td>\n",
              "      <td>0.0</td>\n",
              "      <td>1.0</td>\n",
              "      <td>0.0</td>\n",
              "      <td>0.0</td>\n",
              "      <td>1.0</td>\n",
              "      <td>0.0</td>\n",
              "      <td>1.0</td>\n",
              "      <td>0.0</td>\n",
              "      <td>0.0</td>\n",
              "      <td>0.0</td>\n",
              "    </tr>\n",
              "    <tr>\n",
              "      <th>4</th>\n",
              "      <td>0.287671</td>\n",
              "      <td>0.333333</td>\n",
              "      <td>0.000000</td>\n",
              "      <td>0.0</td>\n",
              "      <td>0.0</td>\n",
              "      <td>0.865473</td>\n",
              "      <td>0.397959</td>\n",
              "      <td>0.0</td>\n",
              "      <td>0.0</td>\n",
              "      <td>1.0</td>\n",
              "      <td>0.0</td>\n",
              "      <td>1.0</td>\n",
              "      <td>0.0</td>\n",
              "      <td>1.0</td>\n",
              "      <td>0.0</td>\n",
              "      <td>0.0</td>\n",
              "      <td>0.0</td>\n",
              "    </tr>\n",
              "    <tr>\n",
              "      <th>...</th>\n",
              "      <td>...</td>\n",
              "      <td>...</td>\n",
              "      <td>...</td>\n",
              "      <td>...</td>\n",
              "      <td>...</td>\n",
              "      <td>...</td>\n",
              "      <td>...</td>\n",
              "      <td>...</td>\n",
              "      <td>...</td>\n",
              "      <td>...</td>\n",
              "      <td>...</td>\n",
              "      <td>...</td>\n",
              "      <td>...</td>\n",
              "      <td>...</td>\n",
              "      <td>...</td>\n",
              "      <td>...</td>\n",
              "      <td>...</td>\n",
              "    </tr>\n",
              "    <tr>\n",
              "      <th>26188</th>\n",
              "      <td>0.205479</td>\n",
              "      <td>0.866667</td>\n",
              "      <td>0.923077</td>\n",
              "      <td>0.0</td>\n",
              "      <td>0.0</td>\n",
              "      <td>0.000000</td>\n",
              "      <td>0.102041</td>\n",
              "      <td>0.0</td>\n",
              "      <td>0.0</td>\n",
              "      <td>1.0</td>\n",
              "      <td>1.0</td>\n",
              "      <td>0.0</td>\n",
              "      <td>0.0</td>\n",
              "      <td>1.0</td>\n",
              "      <td>0.0</td>\n",
              "      <td>0.0</td>\n",
              "      <td>0.0</td>\n",
              "    </tr>\n",
              "    <tr>\n",
              "      <th>26189</th>\n",
              "      <td>0.493151</td>\n",
              "      <td>0.866667</td>\n",
              "      <td>0.230769</td>\n",
              "      <td>0.0</td>\n",
              "      <td>0.0</td>\n",
              "      <td>0.000000</td>\n",
              "      <td>0.397959</td>\n",
              "      <td>1.0</td>\n",
              "      <td>0.0</td>\n",
              "      <td>1.0</td>\n",
              "      <td>0.0</td>\n",
              "      <td>0.0</td>\n",
              "      <td>1.0</td>\n",
              "      <td>1.0</td>\n",
              "      <td>0.0</td>\n",
              "      <td>0.0</td>\n",
              "      <td>0.0</td>\n",
              "    </tr>\n",
              "    <tr>\n",
              "      <th>26190</th>\n",
              "      <td>0.068493</td>\n",
              "      <td>0.600000</td>\n",
              "      <td>0.769231</td>\n",
              "      <td>0.0</td>\n",
              "      <td>0.0</td>\n",
              "      <td>0.000000</td>\n",
              "      <td>0.397959</td>\n",
              "      <td>0.0</td>\n",
              "      <td>0.0</td>\n",
              "      <td>1.0</td>\n",
              "      <td>1.0</td>\n",
              "      <td>0.0</td>\n",
              "      <td>0.0</td>\n",
              "      <td>1.0</td>\n",
              "      <td>0.0</td>\n",
              "      <td>0.0</td>\n",
              "      <td>0.0</td>\n",
              "    </tr>\n",
              "    <tr>\n",
              "      <th>26191</th>\n",
              "      <td>0.136986</td>\n",
              "      <td>0.733333</td>\n",
              "      <td>0.923077</td>\n",
              "      <td>0.0</td>\n",
              "      <td>0.0</td>\n",
              "      <td>0.000000</td>\n",
              "      <td>0.377551</td>\n",
              "      <td>0.0</td>\n",
              "      <td>1.0</td>\n",
              "      <td>0.0</td>\n",
              "      <td>0.0</td>\n",
              "      <td>0.0</td>\n",
              "      <td>1.0</td>\n",
              "      <td>1.0</td>\n",
              "      <td>0.0</td>\n",
              "      <td>0.0</td>\n",
              "      <td>0.0</td>\n",
              "    </tr>\n",
              "    <tr>\n",
              "      <th>26192</th>\n",
              "      <td>0.561644</td>\n",
              "      <td>0.533333</td>\n",
              "      <td>0.000000</td>\n",
              "      <td>0.0</td>\n",
              "      <td>0.0</td>\n",
              "      <td>0.000000</td>\n",
              "      <td>0.397959</td>\n",
              "      <td>0.0</td>\n",
              "      <td>1.0</td>\n",
              "      <td>0.0</td>\n",
              "      <td>0.0</td>\n",
              "      <td>1.0</td>\n",
              "      <td>0.0</td>\n",
              "      <td>1.0</td>\n",
              "      <td>0.0</td>\n",
              "      <td>0.0</td>\n",
              "      <td>0.0</td>\n",
              "    </tr>\n",
              "  </tbody>\n",
              "</table>\n",
              "<p>26193 rows × 17 columns</p>\n",
              "</div>"
            ],
            "text/plain": [
              "            age  education.num  ...  workclass_2  workclass_3\n",
              "0      0.890411       0.533333  ...          0.0          0.0\n",
              "1      0.506849       0.200000  ...          0.0          0.0\n",
              "2      0.328767       0.600000  ...          0.0          0.0\n",
              "3      0.232877       0.533333  ...          0.0          0.0\n",
              "4      0.287671       0.333333  ...          0.0          0.0\n",
              "...         ...            ...  ...          ...          ...\n",
              "26188  0.205479       0.866667  ...          0.0          0.0\n",
              "26189  0.493151       0.866667  ...          0.0          0.0\n",
              "26190  0.068493       0.600000  ...          0.0          0.0\n",
              "26191  0.136986       0.733333  ...          0.0          0.0\n",
              "26192  0.561644       0.533333  ...          0.0          0.0\n",
              "\n",
              "[26193 rows x 17 columns]"
            ]
          },
          "metadata": {
            "tags": []
          },
          "execution_count": 24
        }
      ]
    },
    {
      "cell_type": "code",
      "metadata": {
        "colab": {
          "base_uri": "https://localhost:8080/"
        },
        "id": "pjDrYJThbaJU",
        "outputId": "d5b3ec81-b349-4399-ad5d-6a480d32c21e"
      },
      "source": [
        "# checking the Dtypes of columns again\n",
        "data.info()\n",
        "data.shape"
      ],
      "execution_count": 25,
      "outputs": [
        {
          "output_type": "stream",
          "text": [
            "<class 'pandas.core.frame.DataFrame'>\n",
            "RangeIndex: 26193 entries, 0 to 26192\n",
            "Data columns (total 17 columns):\n",
            " #   Column            Non-Null Count  Dtype  \n",
            "---  ------            --------------  -----  \n",
            " 0   age               26193 non-null  float64\n",
            " 1   education.num     26193 non-null  float64\n",
            " 2   occupation        26193 non-null  float64\n",
            " 3   race              26193 non-null  float64\n",
            " 4   capital.gain      26193 non-null  float64\n",
            " 5   capital.loss      26193 non-null  float64\n",
            " 6   hours.per.week    26193 non-null  float64\n",
            " 7   income            26193 non-null  float64\n",
            " 8   sex_0             26193 non-null  float64\n",
            " 9   sex_1             26193 non-null  float64\n",
            " 10  marital.status_0  26193 non-null  float64\n",
            " 11  marital.status_1  26193 non-null  float64\n",
            " 12  marital.status_2  26193 non-null  float64\n",
            " 13  workclass_0       26193 non-null  float64\n",
            " 14  workclass_1       26193 non-null  float64\n",
            " 15  workclass_2       26193 non-null  float64\n",
            " 16  workclass_3       26193 non-null  float64\n",
            "dtypes: float64(17)\n",
            "memory usage: 3.4 MB\n"
          ],
          "name": "stdout"
        },
        {
          "output_type": "execute_result",
          "data": {
            "text/plain": [
              "(26193, 17)"
            ]
          },
          "metadata": {
            "tags": []
          },
          "execution_count": 25
        }
      ]
    },
    {
      "cell_type": "code",
      "metadata": {
        "colab": {
          "base_uri": "https://localhost:8080/"
        },
        "id": "SXYJxF1CcYjP",
        "outputId": "e27dc117-fa2d-4fed-9337-699a3c72d889"
      },
      "source": [
        "# checking if balancing is required\n",
        "data['income'].value_counts() \n"
      ],
      "execution_count": 26,
      "outputs": [
        {
          "output_type": "execute_result",
          "data": {
            "text/plain": [
              "0.0    19249\n",
              "1.0     6944\n",
              "Name: income, dtype: int64"
            ]
          },
          "metadata": {
            "tags": []
          },
          "execution_count": 26
        }
      ]
    },
    {
      "cell_type": "code",
      "metadata": {
        "colab": {
          "base_uri": "https://localhost:8080/",
          "height": 282
        },
        "id": "BUluQ_JAdR6P",
        "outputId": "e800ab88-4322-425f-fd82-1529f8675300"
      },
      "source": [
        "# visualising the values in 'income' column\n",
        "count=pd.value_counts(data['income'].values)\n",
        "count.plot.barh()\n"
      ],
      "execution_count": 27,
      "outputs": [
        {
          "output_type": "execute_result",
          "data": {
            "text/plain": [
              "<matplotlib.axes._subplots.AxesSubplot at 0x7f07cc440390>"
            ]
          },
          "metadata": {
            "tags": []
          },
          "execution_count": 27
        },
        {
          "output_type": "display_data",
          "data": {
            "image/png": "[encoded data removed]",
            "text/plain": [
              "<Figure size 432x288 with 1 Axes>"
            ]
          },
          "metadata": {
            "tags": [],
            "needs_background": "light"
          }
        }
      ]
    },
    {
      "cell_type": "code",
      "metadata": {
        "id": "YvjoDzCARMLY"
      },
      "source": [
        "# storing data before downsampling.\n",
        "data_imbalanced = data\n",
        "\n"
      ],
      "execution_count": 28,
      "outputs": []
    },
    {
      "cell_type": "code",
      "metadata": {
        "colab": {
          "base_uri": "https://localhost:8080/"
        },
        "id": "B0oaidFSbe73",
        "outputId": "3926963f-37f8-48f9-8245-a5e52f9ebea3"
      },
      "source": [
        "# splitting into train and test\n",
        "from sklearn.model_selection import train_test_split\n",
        "Y = data['income']\n",
        "X = data.drop(columns=['income'])\n",
        "X_train, X_test, y_train, y_test = train_test_split(X, Y, train_size=0.8, random_state=42)\n",
        "# X_combine=pd.concat(pd.dataX_train,y_train)\n",
        "\n",
        "X_comb=pd.concat([X_train, y_train], axis=1, sort=False)\n",
        "X_comb.columns"
      ],
      "execution_count": 29,
      "outputs": [
        {
          "output_type": "execute_result",
          "data": {
            "text/plain": [
              "Index(['age', 'education.num', 'occupation', 'race', 'capital.gain',\n",
              "       'capital.loss', 'hours.per.week', 'sex_0', 'sex_1', 'marital.status_0',\n",
              "       'marital.status_1', 'marital.status_2', 'workclass_0', 'workclass_1',\n",
              "       'workclass_2', 'workclass_3', 'income'],\n",
              "      dtype='object')"
            ]
          },
          "metadata": {
            "tags": []
          },
          "execution_count": 29
        }
      ]
    },
    {
      "cell_type": "code",
      "metadata": {
        "colab": {
          "base_uri": "https://localhost:8080/"
        },
        "id": "e_6CcnoY4AlH",
        "outputId": "f5ad6c78-09d1-432b-9898-3703a917a224"
      },
      "source": [
        "X_comb['income'].value_counts()"
      ],
      "execution_count": 30,
      "outputs": [
        {
          "output_type": "execute_result",
          "data": {
            "text/plain": [
              "0.0    15432\n",
              "1.0     5522\n",
              "Name: income, dtype: int64"
            ]
          },
          "metadata": {
            "tags": []
          },
          "execution_count": 30
        }
      ]
    },
    {
      "cell_type": "code",
      "metadata": {
        "colab": {
          "base_uri": "https://localhost:8080/"
        },
        "id": "86AFBAT6cqUR",
        "outputId": "f3abbce7-308e-4b4c-b7fd-7001fe62145a"
      },
      "source": [
        "# downsampling.\n",
        "from sklearn.utils import resample\n",
        "\n",
        "data_majority = X_comb[X_comb.income==0]\n",
        "data_minority = X_comb[X_comb.income==1]\n",
        " \n",
        "# Downsample majority class\n",
        "data_majority_downsampled = resample(data_majority, \n",
        "                                 replace=False,    # sample without replacement\n",
        "                                 n_samples=6145,     # to match minority class\n",
        "                                 random_state=123) # reproducible results\n",
        " \n",
        "# Combine minority class with downsampled majority class\n",
        "X_comb = pd.concat([data_majority_downsampled, data_minority])\n",
        " \n",
        "# Display new class counts\n",
        "X_comb.income.value_counts()"
      ],
      "execution_count": 31,
      "outputs": [
        {
          "output_type": "execute_result",
          "data": {
            "text/plain": [
              "0.0    6145\n",
              "1.0    5522\n",
              "Name: income, dtype: int64"
            ]
          },
          "metadata": {
            "tags": []
          },
          "execution_count": 31
        }
      ]
    },
    {
      "cell_type": "code",
      "metadata": {
        "id": "Xvee-fED4fw_"
      },
      "source": [
        "y_train = X_comb['income']\r\n",
        "X_train = X_comb.drop(columns=['income'])"
      ],
      "execution_count": 32,
      "outputs": []
    },
    {
      "cell_type": "markdown",
      "metadata": {
        "id": "ZKWpNXFZQ9SC"
      },
      "source": [
        "# Before balancing class label column"
      ]
    },
    {
      "cell_type": "code",
      "metadata": {
        "id": "OtpuqEdGiOVJ"
      },
      "source": [
        "from sklearn.linear_model import LogisticRegression"
      ],
      "execution_count": 33,
      "outputs": []
    },
    {
      "cell_type": "code",
      "metadata": {
        "id": "Lb5jjr6kSd_j"
      },
      "source": [
        "from sklearn import preprocessing\n",
        "from sklearn.model_selection import cross_val_score, cross_val_predict\n",
        "from sklearn.metrics import accuracy_score, classification_report\n",
        "from sklearn.metrics import confusion_matrix, roc_auc_score\n",
        "def print_score(clf, X_train, X_test, y_train, y_test, train=True):\n",
        "    '''\n",
        "    v0.1 Follow the scikit learn library format in terms of input\n",
        "    print the accuracy score, classification report and confusion matrix of classifier\n",
        "    '''\n",
        "    lb = preprocessing.LabelBinarizer()\n",
        "    lb.fit(y_train)\n",
        "    if train:\n",
        "        '''\n",
        "        training performance\n",
        "        '''\n",
        "        res = clf.predict(X_train)\n",
        "        print(\"Train Result:\\n\")\n",
        "        print(\"accuracy score: {0:.4f}\\n\".format(accuracy_score(y_train, \n",
        "                                                                res)))\n",
        "        print(\"Classification Report: \\n {}\\n\".format(classification_report(y_train, \n",
        "                                                                            res)))\n",
        "        print(\"Confusion Matrix: \\n {}\\n\".format(confusion_matrix(y_train, \n",
        "                                                                  res)))\n",
        "        print(\"ROC AUC: {0:.4f}\\n\".format(roc_auc_score(lb.transform(y_train), \n",
        "                                                      lb.transform(res))))\n",
        "\n",
        "        res = cross_val_score(clf, X_train, y_train, cv=10, scoring='accuracy')\n",
        "        print(\"Average Accuracy: \\t {0:.4f}\".format(np.mean(res)))\n",
        "        print(\"Accuracy SD: \\t\\t {0:.4f}\".format(np.std(res)))\n",
        "        \n",
        "    elif train==False:\n",
        "        '''\n",
        "        test performance\n",
        "        '''\n",
        "        res_test = clf.predict(X_test)\n",
        "        print(\"Test Result:\\n\")        \n",
        "        print(\"accuracy score: {0:.4f}\\n\".format(accuracy_score(y_test, \n",
        "                                                                res_test)))\n",
        "        print(\"Classification Report: \\n {}\\n\".format(classification_report(y_test, \n",
        "                                                                            res_test)))\n",
        "        print(\"Confusion Matrix: \\n {}\\n\".format(confusion_matrix(y_test, \n",
        "                                                                  res_test)))   \n",
        "        print(\"ROC AUC: {0:.4f}\\n\".format(roc_auc_score(lb.transform(y_test), \n",
        "                                                      lb.transform(res_test))))"
      ],
      "execution_count": 34,
      "outputs": []
    },
    {
      "cell_type": "code",
      "metadata": {
        "id": "PKWJWiF1ym37"
      },
      "source": [
        "result_table1 = pd.DataFrame(columns=['classifiers', 'fpr','tpr','auc'])"
      ],
      "execution_count": 35,
      "outputs": []
    },
    {
      "cell_type": "code",
      "metadata": {
        "colab": {
          "base_uri": "https://localhost:8080/"
        },
        "id": "1Gl8ek7jRI4v",
        "outputId": "90d636fe-7a49-40b5-cf96-40e720275a86"
      },
      "source": [
        "Y1 = data_imbalanced['income']\n",
        "X1 = data_imbalanced.drop(columns=['income'])\n",
        "X_train1, X_test1, y_train1, y_test1 = train_test_split(X1, Y1, train_size=0.8, random_state=42)\n",
        "print(X_train1.shape)\n",
        "print(y_train1.shape)\n",
        "print(X_test1.shape)\n",
        "print(y_test1.shape)"
      ],
      "execution_count": 36,
      "outputs": [
        {
          "output_type": "stream",
          "text": [
            "(20954, 16)\n",
            "(20954,)\n",
            "(5239, 16)\n",
            "(5239,)\n"
          ],
          "name": "stdout"
        }
      ]
    },
    {
      "cell_type": "code",
      "metadata": {
        "id": "yVqCBWqfSAtl"
      },
      "source": [
        "lr = LogisticRegression(random_state=0, max_iter=1000).fit(X_train1, y_train1)"
      ],
      "execution_count": 37,
      "outputs": []
    },
    {
      "cell_type": "code",
      "metadata": {
        "id": "a0he3dEHqmsG"
      },
      "source": [
        "# yproba = lr.predict_proba(X_test)[::,1]\n",
        "# fpr, tpr, _ = roc_curve(y_test,  yproba)\n",
        "# auc = roc_auc_score(y_test, yproba)\n",
        "# result_table = result_table.append({'classifiers':'Logistic Regression before resample',\n",
        "#                                         'fpr':fpr, \n",
        "#                                         'tpr':tpr, \n",
        "#                                         'auc':auc}, ignore_index=True)\n",
        "# result_table"
      ],
      "execution_count": 38,
      "outputs": []
    },
    {
      "cell_type": "code",
      "metadata": {
        "colab": {
          "base_uri": "https://localhost:8080/",
          "height": 80
        },
        "id": "M_cjzN2cG-YZ",
        "outputId": "a510a99c-cf13-44a3-8bd6-c43b921e477a"
      },
      "source": [
        "yproba = lr.predict_proba(X_test1)[::,1]\r\n",
        "fpr, tpr, _ = roc_curve(y_test1,  yproba)\r\n",
        "auc = roc_auc_score(y_test1, yproba)\r\n",
        "result_table1 = result_table1.append({'classifiers':'Logistic Regression before resample',\r\n",
        "                                        'fpr':fpr, \r\n",
        "                                        'tpr':tpr, \r\n",
        "                                        'auc':auc}, ignore_index=True)\r\n",
        "result_table1"
      ],
      "execution_count": 39,
      "outputs": [
        {
          "output_type": "execute_result",
          "data": {
            "text/html": [
              "<div>\n",
              "<style scoped>\n",
              "    .dataframe tbody tr th:only-of-type {\n",
              "        vertical-align: middle;\n",
              "    }\n",
              "\n",
              "    .dataframe tbody tr th {\n",
              "        vertical-align: top;\n",
              "    }\n",
              "\n",
              "    .dataframe thead th {\n",
              "        text-align: right;\n",
              "    }\n",
              "</style>\n",
              "<table border=\"1\" class=\"dataframe\">\n",
              "  <thead>\n",
              "    <tr style=\"text-align: right;\">\n",
              "      <th></th>\n",
              "      <th>classifiers</th>\n",
              "      <th>fpr</th>\n",
              "      <th>tpr</th>\n",
              "      <th>auc</th>\n",
              "    </tr>\n",
              "  </thead>\n",
              "  <tbody>\n",
              "    <tr>\n",
              "      <th>0</th>\n",
              "      <td>Logistic Regression before resample</td>\n",
              "      <td>[0.0, 0.0, 0.0, 0.00026198585276395077, 0.0002...</td>\n",
              "      <td>[0.0, 0.0007032348804500703, 0.035864978902953...</td>\n",
              "      <td>0.882813</td>\n",
              "    </tr>\n",
              "  </tbody>\n",
              "</table>\n",
              "</div>"
            ],
            "text/plain": [
              "                           classifiers  ...       auc\n",
              "0  Logistic Regression before resample  ...  0.882813\n",
              "\n",
              "[1 rows x 4 columns]"
            ]
          },
          "metadata": {
            "tags": []
          },
          "execution_count": 39
        }
      ]
    },
    {
      "cell_type": "code",
      "metadata": {
        "colab": {
          "base_uri": "https://localhost:8080/"
        },
        "id": "_Td9ax_jSSmc",
        "outputId": "2f620756-e0ae-4f0a-d937-9a672b69ec3b"
      },
      "source": [
        "print_score(lr, X_train1, X_test1, y_train1, y_test1, train=True) "
      ],
      "execution_count": 40,
      "outputs": [
        {
          "output_type": "stream",
          "text": [
            "Train Result:\n",
            "\n",
            "accuracy score: 0.8218\n",
            "\n",
            "Classification Report: \n",
            "               precision    recall  f1-score   support\n",
            "\n",
            "         0.0       0.85      0.92      0.88     15432\n",
            "         1.0       0.71      0.55      0.62      5522\n",
            "\n",
            "    accuracy                           0.82     20954\n",
            "   macro avg       0.78      0.73      0.75     20954\n",
            "weighted avg       0.81      0.82      0.81     20954\n",
            "\n",
            "\n",
            "Confusion Matrix: \n",
            " [[14185  1247]\n",
            " [ 2487  3035]]\n",
            "\n",
            "ROC AUC: 0.7344\n",
            "\n",
            "Average Accuracy: \t 0.8215\n",
            "Accuracy SD: \t\t 0.0068\n"
          ],
          "name": "stdout"
        }
      ]
    },
    {
      "cell_type": "code",
      "metadata": {
        "colab": {
          "base_uri": "https://localhost:8080/"
        },
        "id": "VvSmUp_1SlZE",
        "outputId": "fa410905-5d18-4929-e3f3-e748e822aa53"
      },
      "source": [
        "# We get an accuracy of 83.8% but the recall for 1 is 53% as opposed to 0's recall of 93%. This happens because of class imbalance.\n",
        "print_score(lr, X_train1, X_test1, y_train1, y_test1, train=False) "
      ],
      "execution_count": 41,
      "outputs": [
        {
          "output_type": "stream",
          "text": [
            "Test Result:\n",
            "\n",
            "accuracy score: 0.8219\n",
            "\n",
            "Classification Report: \n",
            "               precision    recall  f1-score   support\n",
            "\n",
            "         0.0       0.84      0.93      0.88      3817\n",
            "         1.0       0.74      0.53      0.62      1422\n",
            "\n",
            "    accuracy                           0.82      5239\n",
            "   macro avg       0.79      0.73      0.75      5239\n",
            "weighted avg       0.81      0.82      0.81      5239\n",
            "\n",
            "\n",
            "Confusion Matrix: \n",
            " [[3551  266]\n",
            " [ 667  755]]\n",
            "\n",
            "ROC AUC: 0.7306\n",
            "\n"
          ],
          "name": "stdout"
        }
      ]
    },
    {
      "cell_type": "markdown",
      "metadata": {
        "id": "0idjTt7KClK9"
      },
      "source": [
        "Bagging"
      ]
    },
    {
      "cell_type": "code",
      "metadata": {
        "colab": {
          "base_uri": "https://localhost:8080/"
        },
        "id": "o9FW7F_3Cknm",
        "outputId": "9550b1fe-df88-4d52-afde-b9f34c4473f0"
      },
      "source": [
        "# decision tree classifier\r\n",
        "from sklearn.tree import DecisionTreeClassifier\r\n",
        "from sklearn.ensemble import BaggingClassifier\r\n",
        "dt1 = DecisionTreeClassifier(random_state=42)\r\n",
        "dt1.fit(X_train1, y_train1)\r\n",
        "#printing train scores.\r\n",
        "print_score(dt1, X_train1, X_test1, y_train1, y_test1, train=True) \r\n",
        "print_score(dt1, X_train1, X_test1, y_train1, y_test1, train=False) "
      ],
      "execution_count": 42,
      "outputs": [
        {
          "output_type": "stream",
          "text": [
            "Train Result:\n",
            "\n",
            "accuracy score: 0.9727\n",
            "\n",
            "Classification Report: \n",
            "               precision    recall  f1-score   support\n",
            "\n",
            "         0.0       0.97      1.00      0.98     15432\n",
            "         1.0       0.99      0.90      0.95      5522\n",
            "\n",
            "    accuracy                           0.97     20954\n",
            "   macro avg       0.98      0.95      0.96     20954\n",
            "weighted avg       0.97      0.97      0.97     20954\n",
            "\n",
            "\n",
            "Confusion Matrix: \n",
            " [[15399    33]\n",
            " [  539  4983]]\n",
            "\n",
            "ROC AUC: 0.9501\n",
            "\n",
            "Average Accuracy: \t 0.7841\n",
            "Accuracy SD: \t\t 0.0075\n",
            "Test Result:\n",
            "\n",
            "accuracy score: 0.7830\n",
            "\n",
            "Classification Report: \n",
            "               precision    recall  f1-score   support\n",
            "\n",
            "         0.0       0.84      0.86      0.85      3817\n",
            "         1.0       0.61      0.57      0.59      1422\n",
            "\n",
            "    accuracy                           0.78      5239\n",
            "   macro avg       0.73      0.72      0.72      5239\n",
            "weighted avg       0.78      0.78      0.78      5239\n",
            "\n",
            "\n",
            "Confusion Matrix: \n",
            " [[3288  529]\n",
            " [ 608  814]]\n",
            "\n",
            "ROC AUC: 0.7169\n",
            "\n"
          ],
          "name": "stdout"
        }
      ]
    },
    {
      "cell_type": "code",
      "metadata": {
        "colab": {
          "base_uri": "https://localhost:8080/",
          "height": 111
        },
        "id": "Kv_IuIMxHm3K",
        "outputId": "ac0366f0-a04b-4d32-e029-550c701bceab"
      },
      "source": [
        "yproba = dt1.predict_proba(X_test1)[::,1]\r\n",
        "fpr, tpr, _ = roc_curve(y_test1,  yproba)\r\n",
        "auc = roc_auc_score(y_test1, yproba)\r\n",
        "result_table1 = result_table1.append({'classifiers':'Decision Tree Classifier',\r\n",
        "                                        'fpr':fpr, \r\n",
        "                                        'tpr':tpr, \r\n",
        "                                        'auc':auc}, ignore_index=True)\r\n",
        "result_table1"
      ],
      "execution_count": 43,
      "outputs": [
        {
          "output_type": "execute_result",
          "data": {
            "text/html": [
              "<div>\n",
              "<style scoped>\n",
              "    .dataframe tbody tr th:only-of-type {\n",
              "        vertical-align: middle;\n",
              "    }\n",
              "\n",
              "    .dataframe tbody tr th {\n",
              "        vertical-align: top;\n",
              "    }\n",
              "\n",
              "    .dataframe thead th {\n",
              "        text-align: right;\n",
              "    }\n",
              "</style>\n",
              "<table border=\"1\" class=\"dataframe\">\n",
              "  <thead>\n",
              "    <tr style=\"text-align: right;\">\n",
              "      <th></th>\n",
              "      <th>classifiers</th>\n",
              "      <th>fpr</th>\n",
              "      <th>tpr</th>\n",
              "      <th>auc</th>\n",
              "    </tr>\n",
              "  </thead>\n",
              "  <tbody>\n",
              "    <tr>\n",
              "      <th>0</th>\n",
              "      <td>Logistic Regression before resample</td>\n",
              "      <td>[0.0, 0.0, 0.0, 0.00026198585276395077, 0.0002...</td>\n",
              "      <td>[0.0, 0.0007032348804500703, 0.035864978902953...</td>\n",
              "      <td>0.882813</td>\n",
              "    </tr>\n",
              "    <tr>\n",
              "      <th>1</th>\n",
              "      <td>Decision Tree Classifier</td>\n",
              "      <td>[0.0, 0.13728058684831018, 0.13728058684831018...</td>\n",
              "      <td>[0.0, 0.569620253164557, 0.570323488045007, 0....</td>\n",
              "      <td>0.730195</td>\n",
              "    </tr>\n",
              "  </tbody>\n",
              "</table>\n",
              "</div>"
            ],
            "text/plain": [
              "                           classifiers  ...       auc\n",
              "0  Logistic Regression before resample  ...  0.882813\n",
              "1             Decision Tree Classifier  ...  0.730195\n",
              "\n",
              "[2 rows x 4 columns]"
            ]
          },
          "metadata": {
            "tags": []
          },
          "execution_count": 43
        }
      ]
    },
    {
      "cell_type": "code",
      "metadata": {
        "id": "MaMElMCkHKQU"
      },
      "source": [
        "# yproba = dt1.predict_proba(X_test)[::,1]\r\n",
        "# fpr, tpr, _ = roc_curve(y_test,  yproba)\r\n",
        "# auc = roc_auc_score(y_test, yproba)\r\n",
        "# result_table1 = result_table1.append({'classifiers':'Logistic Regression before resample',\r\n",
        "#                                         'fpr':fpr, \r\n",
        "#                                         'tpr':tpr, \r\n",
        "#                                         'auc':auc}, ignore_index=True)\r\n",
        "# result_table1"
      ],
      "execution_count": 44,
      "outputs": []
    },
    {
      "cell_type": "code",
      "metadata": {
        "colab": {
          "base_uri": "https://localhost:8080/"
        },
        "id": "nwo3o_VaDICn",
        "outputId": "c3528ca7-e99a-4f7d-d689-81da625d5b4a"
      },
      "source": [
        "# implementing  bagging\r\n",
        "bag_clf1 = BaggingClassifier(base_estimator=dt1, n_estimators=200, bootstrap=True, oob_score=True, n_jobs=-1)\r\n",
        "bag_clf1.fit(X_train1, y_train1)\r\n",
        "print_score(bag_clf1,X_train1, X_test1, y_train1, y_test1, train=True)\r\n",
        "print_score(bag_clf1,X_train1, X_test1, y_train1, y_test1, train=False)"
      ],
      "execution_count": 45,
      "outputs": [
        {
          "output_type": "stream",
          "text": [
            "Train Result:\n",
            "\n",
            "accuracy score: 0.9727\n",
            "\n",
            "Classification Report: \n",
            "               precision    recall  f1-score   support\n",
            "\n",
            "         0.0       0.98      0.99      0.98     15432\n",
            "         1.0       0.96      0.94      0.95      5522\n",
            "\n",
            "    accuracy                           0.97     20954\n",
            "   macro avg       0.97      0.96      0.96     20954\n",
            "weighted avg       0.97      0.97      0.97     20954\n",
            "\n",
            "\n",
            "Confusion Matrix: \n",
            " [[15210   222]\n",
            " [  350  5172]]\n",
            "\n",
            "ROC AUC: 0.9611\n",
            "\n",
            "Average Accuracy: \t 0.8167\n",
            "Accuracy SD: \t\t 0.0046\n",
            "Test Result:\n",
            "\n",
            "accuracy score: 0.8135\n",
            "\n",
            "Classification Report: \n",
            "               precision    recall  f1-score   support\n",
            "\n",
            "         0.0       0.85      0.90      0.88      3817\n",
            "         1.0       0.68      0.59      0.63      1422\n",
            "\n",
            "    accuracy                           0.81      5239\n",
            "   macro avg       0.77      0.74      0.75      5239\n",
            "weighted avg       0.81      0.81      0.81      5239\n",
            "\n",
            "\n",
            "Confusion Matrix: \n",
            " [[3423  394]\n",
            " [ 583  839]]\n",
            "\n",
            "ROC AUC: 0.7434\n",
            "\n"
          ],
          "name": "stdout"
        }
      ]
    },
    {
      "cell_type": "code",
      "metadata": {
        "colab": {
          "base_uri": "https://localhost:8080/",
          "height": 142
        },
        "id": "NZvkBm6MHwCy",
        "outputId": "483239c0-5e76-44ff-94b1-d8b9ec25dc60"
      },
      "source": [
        "yproba = bag_clf1.predict_proba(X_test1)[::,1]\r\n",
        "fpr, tpr, _ = roc_curve(y_test1,  yproba)\r\n",
        "auc = roc_auc_score(y_test1, yproba)\r\n",
        "result_table1 = result_table1.append({'classifiers':'Bagging Classifier',\r\n",
        "                                        'fpr':fpr, \r\n",
        "                                        'tpr':tpr, \r\n",
        "                                        'auc':auc}, ignore_index=True)\r\n",
        "result_table1"
      ],
      "execution_count": 46,
      "outputs": [
        {
          "output_type": "execute_result",
          "data": {
            "text/html": [
              "<div>\n",
              "<style scoped>\n",
              "    .dataframe tbody tr th:only-of-type {\n",
              "        vertical-align: middle;\n",
              "    }\n",
              "\n",
              "    .dataframe tbody tr th {\n",
              "        vertical-align: top;\n",
              "    }\n",
              "\n",
              "    .dataframe thead th {\n",
              "        text-align: right;\n",
              "    }\n",
              "</style>\n",
              "<table border=\"1\" class=\"dataframe\">\n",
              "  <thead>\n",
              "    <tr style=\"text-align: right;\">\n",
              "      <th></th>\n",
              "      <th>classifiers</th>\n",
              "      <th>fpr</th>\n",
              "      <th>tpr</th>\n",
              "      <th>auc</th>\n",
              "    </tr>\n",
              "  </thead>\n",
              "  <tbody>\n",
              "    <tr>\n",
              "      <th>0</th>\n",
              "      <td>Logistic Regression before resample</td>\n",
              "      <td>[0.0, 0.0, 0.0, 0.00026198585276395077, 0.0002...</td>\n",
              "      <td>[0.0, 0.0007032348804500703, 0.035864978902953...</td>\n",
              "      <td>0.882813</td>\n",
              "    </tr>\n",
              "    <tr>\n",
              "      <th>1</th>\n",
              "      <td>Decision Tree Classifier</td>\n",
              "      <td>[0.0, 0.13728058684831018, 0.13728058684831018...</td>\n",
              "      <td>[0.0, 0.569620253164557, 0.570323488045007, 0....</td>\n",
              "      <td>0.730195</td>\n",
              "    </tr>\n",
              "    <tr>\n",
              "      <th>2</th>\n",
              "      <td>Bagging Classifier</td>\n",
              "      <td>[0.0, 0.001047943411055803, 0.0015719151165837...</td>\n",
              "      <td>[0.0, 0.22925457102672292, 0.24120956399437413...</td>\n",
              "      <td>0.869529</td>\n",
              "    </tr>\n",
              "  </tbody>\n",
              "</table>\n",
              "</div>"
            ],
            "text/plain": [
              "                           classifiers  ...       auc\n",
              "0  Logistic Regression before resample  ...  0.882813\n",
              "1             Decision Tree Classifier  ...  0.730195\n",
              "2                   Bagging Classifier  ...  0.869529\n",
              "\n",
              "[3 rows x 4 columns]"
            ]
          },
          "metadata": {
            "tags": []
          },
          "execution_count": 46
        }
      ]
    },
    {
      "cell_type": "markdown",
      "metadata": {
        "id": "opA5kXhfDiM2"
      },
      "source": [
        "Boosting"
      ]
    },
    {
      "cell_type": "code",
      "metadata": {
        "colab": {
          "base_uri": "https://localhost:8080/"
        },
        "id": "a7u-sk11DViS",
        "outputId": "13ada812-ced4-4104-df89-739669345df4"
      },
      "source": [
        "# adaboost\r\n",
        "from sklearn.ensemble import AdaBoostClassifier\r\n",
        "abc1 = AdaBoostClassifier(n_estimators=50,learning_rate=1)\r\n",
        "# Train Adaboost Classifer\r\n",
        "model1 = abc1.fit(X_train1, y_train1) #implementing \r\n",
        "\r\n",
        "#Predict the response for test dataset\r\n",
        "y_pred = model1.predict(X_test1)\r\n",
        "print_score(abc1, X_train1, X_test1, y_train1, y_test1, train=True)\r\n",
        "print_score(abc1, X_train1, X_test1, y_train1, y_test1, train=False)"
      ],
      "execution_count": 47,
      "outputs": [
        {
          "output_type": "stream",
          "text": [
            "Train Result:\n",
            "\n",
            "accuracy score: 0.8454\n",
            "\n",
            "Classification Report: \n",
            "               precision    recall  f1-score   support\n",
            "\n",
            "         0.0       0.87      0.93      0.90     15432\n",
            "         1.0       0.76      0.60      0.67      5522\n",
            "\n",
            "    accuracy                           0.85     20954\n",
            "   macro avg       0.81      0.77      0.79     20954\n",
            "weighted avg       0.84      0.85      0.84     20954\n",
            "\n",
            "\n",
            "Confusion Matrix: \n",
            " [[14401  1031]\n",
            " [ 2208  3314]]\n",
            "\n",
            "ROC AUC: 0.7667\n",
            "\n",
            "Average Accuracy: \t 0.8453\n",
            "Accuracy SD: \t\t 0.0037\n",
            "Test Result:\n",
            "\n",
            "accuracy score: 0.8404\n",
            "\n",
            "Classification Report: \n",
            "               precision    recall  f1-score   support\n",
            "\n",
            "         0.0       0.86      0.94      0.90      3817\n",
            "         1.0       0.77      0.58      0.66      1422\n",
            "\n",
            "    accuracy                           0.84      5239\n",
            "   macro avg       0.82      0.76      0.78      5239\n",
            "weighted avg       0.83      0.84      0.83      5239\n",
            "\n",
            "\n",
            "Confusion Matrix: \n",
            " [[3577  240]\n",
            " [ 596  826]]\n",
            "\n",
            "ROC AUC: 0.7590\n",
            "\n"
          ],
          "name": "stdout"
        }
      ]
    },
    {
      "cell_type": "code",
      "metadata": {
        "colab": {
          "base_uri": "https://localhost:8080/",
          "height": 173
        },
        "id": "FP6RA6EAH547",
        "outputId": "0d94d6ce-78cd-4eec-b73c-c712f6b73285"
      },
      "source": [
        "yproba = abc1.predict_proba(X_test1)[::,1]\r\n",
        "fpr, tpr, _ = roc_curve(y_test1,  yproba)\r\n",
        "auc = roc_auc_score(y_test1, yproba)\r\n",
        "result_table1 = result_table1.append({'classifiers':'AdaBoost Classifier',\r\n",
        "                                        'fpr':fpr, \r\n",
        "                                        'tpr':tpr, \r\n",
        "                                        'auc':auc}, ignore_index=True)\r\n",
        "result_table1"
      ],
      "execution_count": 48,
      "outputs": [
        {
          "output_type": "execute_result",
          "data": {
            "text/html": [
              "<div>\n",
              "<style scoped>\n",
              "    .dataframe tbody tr th:only-of-type {\n",
              "        vertical-align: middle;\n",
              "    }\n",
              "\n",
              "    .dataframe tbody tr th {\n",
              "        vertical-align: top;\n",
              "    }\n",
              "\n",
              "    .dataframe thead th {\n",
              "        text-align: right;\n",
              "    }\n",
              "</style>\n",
              "<table border=\"1\" class=\"dataframe\">\n",
              "  <thead>\n",
              "    <tr style=\"text-align: right;\">\n",
              "      <th></th>\n",
              "      <th>classifiers</th>\n",
              "      <th>fpr</th>\n",
              "      <th>tpr</th>\n",
              "      <th>auc</th>\n",
              "    </tr>\n",
              "  </thead>\n",
              "  <tbody>\n",
              "    <tr>\n",
              "      <th>0</th>\n",
              "      <td>Logistic Regression before resample</td>\n",
              "      <td>[0.0, 0.0, 0.0, 0.00026198585276395077, 0.0002...</td>\n",
              "      <td>[0.0, 0.0007032348804500703, 0.035864978902953...</td>\n",
              "      <td>0.882813</td>\n",
              "    </tr>\n",
              "    <tr>\n",
              "      <th>1</th>\n",
              "      <td>Decision Tree Classifier</td>\n",
              "      <td>[0.0, 0.13728058684831018, 0.13728058684831018...</td>\n",
              "      <td>[0.0, 0.569620253164557, 0.570323488045007, 0....</td>\n",
              "      <td>0.730195</td>\n",
              "    </tr>\n",
              "    <tr>\n",
              "      <th>2</th>\n",
              "      <td>Bagging Classifier</td>\n",
              "      <td>[0.0, 0.001047943411055803, 0.0015719151165837...</td>\n",
              "      <td>[0.0, 0.22925457102672292, 0.24120956399437413...</td>\n",
              "      <td>0.869529</td>\n",
              "    </tr>\n",
              "    <tr>\n",
              "      <th>3</th>\n",
              "      <td>AdaBoost Classifier</td>\n",
              "      <td>[0.0, 0.0, 0.0, 0.0, 0.0, 0.0, 0.0, 0.0, 0.0, ...</td>\n",
              "      <td>[0.0, 0.0014064697609001407, 0.004219409282700...</td>\n",
              "      <td>0.905212</td>\n",
              "    </tr>\n",
              "  </tbody>\n",
              "</table>\n",
              "</div>"
            ],
            "text/plain": [
              "                           classifiers  ...       auc\n",
              "0  Logistic Regression before resample  ...  0.882813\n",
              "1             Decision Tree Classifier  ...  0.730195\n",
              "2                   Bagging Classifier  ...  0.869529\n",
              "3                  AdaBoost Classifier  ...  0.905212\n",
              "\n",
              "[4 rows x 4 columns]"
            ]
          },
          "metadata": {
            "tags": []
          },
          "execution_count": 48
        }
      ]
    },
    {
      "cell_type": "code",
      "metadata": {
        "id": "Gh7xwxrcIsHZ",
        "colab": {
          "base_uri": "https://localhost:8080/"
        },
        "outputId": "51648a46-bde4-40c6-857a-402ac58a5525"
      },
      "source": [
        "# adaboost+random forest\r\n",
        "from sklearn.ensemble import RandomForestClassifier\r\n",
        "clf1 = RandomForestClassifier(n_estimators=100,n_jobs=-1, max_depth = 6);\r\n",
        "\r\n",
        "b_r_clf1 = AdaBoostClassifier(base_estimator=clf1,n_estimators=clf1.n_estimators) #using random forest obj as base classifier\r\n",
        "b_r_clf1.fit(X_train1, y_train1)\r\n",
        "print_score(b_r_clf1, X_train1, X_test1, y_train1, y_test1, train=True)\r\n",
        "print_score(b_r_clf1, X_train1, X_test1, y_train1, y_test1, train=False)\r\n"
      ],
      "execution_count": 49,
      "outputs": [
        {
          "output_type": "stream",
          "text": [
            "Train Result:\n",
            "\n",
            "accuracy score: 0.9152\n",
            "\n",
            "Classification Report: \n",
            "               precision    recall  f1-score   support\n",
            "\n",
            "         0.0       0.93      0.96      0.94     15432\n",
            "         1.0       0.87      0.80      0.83      5522\n",
            "\n",
            "    accuracy                           0.92     20954\n",
            "   macro avg       0.90      0.88      0.89     20954\n",
            "weighted avg       0.91      0.92      0.91     20954\n",
            "\n",
            "\n",
            "Confusion Matrix: \n",
            " [[14774   658]\n",
            " [ 1118  4404]]\n",
            "\n",
            "ROC AUC: 0.8774\n",
            "\n",
            "Average Accuracy: \t 0.8439\n",
            "Accuracy SD: \t\t 0.0057\n",
            "Test Result:\n",
            "\n",
            "accuracy score: 0.8425\n",
            "\n",
            "Classification Report: \n",
            "               precision    recall  f1-score   support\n",
            "\n",
            "         0.0       0.87      0.92      0.90      3817\n",
            "         1.0       0.75      0.63      0.68      1422\n",
            "\n",
            "    accuracy                           0.84      5239\n",
            "   macro avg       0.81      0.77      0.79      5239\n",
            "weighted avg       0.84      0.84      0.84      5239\n",
            "\n",
            "\n",
            "Confusion Matrix: \n",
            " [[3525  292]\n",
            " [ 533  889]]\n",
            "\n",
            "ROC AUC: 0.7743\n",
            "\n"
          ],
          "name": "stdout"
        }
      ]
    },
    {
      "cell_type": "code",
      "metadata": {
        "id": "fb1V-QN6IPVt",
        "colab": {
          "base_uri": "https://localhost:8080/",
          "height": 204
        },
        "outputId": "883f4feb-946b-4a92-dbb1-09afc756b4fc"
      },
      "source": [
        "yproba = b_r_clf1.predict_proba(X_test1)[::,1]\r\n",
        "fpr, tpr, _ = roc_curve(y_test1,  yproba)\r\n",
        "auc = roc_auc_score(y_test1, yproba)\r\n",
        "result_table1 = result_table1.append({'classifiers':'AdaBoost+Random Forest Classifier',\r\n",
        "                                        'fpr':fpr, \r\n",
        "                                        'tpr':tpr, \r\n",
        "                                        'auc':auc}, ignore_index=True)\r\n",
        "result_table1"
      ],
      "execution_count": 50,
      "outputs": [
        {
          "output_type": "execute_result",
          "data": {
            "text/html": [
              "<div>\n",
              "<style scoped>\n",
              "    .dataframe tbody tr th:only-of-type {\n",
              "        vertical-align: middle;\n",
              "    }\n",
              "\n",
              "    .dataframe tbody tr th {\n",
              "        vertical-align: top;\n",
              "    }\n",
              "\n",
              "    .dataframe thead th {\n",
              "        text-align: right;\n",
              "    }\n",
              "</style>\n",
              "<table border=\"1\" class=\"dataframe\">\n",
              "  <thead>\n",
              "    <tr style=\"text-align: right;\">\n",
              "      <th></th>\n",
              "      <th>classifiers</th>\n",
              "      <th>fpr</th>\n",
              "      <th>tpr</th>\n",
              "      <th>auc</th>\n",
              "    </tr>\n",
              "  </thead>\n",
              "  <tbody>\n",
              "    <tr>\n",
              "      <th>0</th>\n",
              "      <td>Logistic Regression before resample</td>\n",
              "      <td>[0.0, 0.0, 0.0, 0.00026198585276395077, 0.0002...</td>\n",
              "      <td>[0.0, 0.0007032348804500703, 0.035864978902953...</td>\n",
              "      <td>0.882813</td>\n",
              "    </tr>\n",
              "    <tr>\n",
              "      <th>1</th>\n",
              "      <td>Decision Tree Classifier</td>\n",
              "      <td>[0.0, 0.13728058684831018, 0.13728058684831018...</td>\n",
              "      <td>[0.0, 0.569620253164557, 0.570323488045007, 0....</td>\n",
              "      <td>0.730195</td>\n",
              "    </tr>\n",
              "    <tr>\n",
              "      <th>2</th>\n",
              "      <td>Bagging Classifier</td>\n",
              "      <td>[0.0, 0.001047943411055803, 0.0015719151165837...</td>\n",
              "      <td>[0.0, 0.22925457102672292, 0.24120956399437413...</td>\n",
              "      <td>0.869529</td>\n",
              "    </tr>\n",
              "    <tr>\n",
              "      <th>3</th>\n",
              "      <td>AdaBoost Classifier</td>\n",
              "      <td>[0.0, 0.0, 0.0, 0.0, 0.0, 0.0, 0.0, 0.0, 0.0, ...</td>\n",
              "      <td>[0.0, 0.0014064697609001407, 0.004219409282700...</td>\n",
              "      <td>0.905212</td>\n",
              "    </tr>\n",
              "    <tr>\n",
              "      <th>4</th>\n",
              "      <td>AdaBoost+Random Forest Classifier</td>\n",
              "      <td>[0.0, 0.0, 0.0, 0.00026198585276395077, 0.0002...</td>\n",
              "      <td>[0.0, 0.0007032348804500703, 0.053445850914205...</td>\n",
              "      <td>0.908980</td>\n",
              "    </tr>\n",
              "  </tbody>\n",
              "</table>\n",
              "</div>"
            ],
            "text/plain": [
              "                           classifiers  ...       auc\n",
              "0  Logistic Regression before resample  ...  0.882813\n",
              "1             Decision Tree Classifier  ...  0.730195\n",
              "2                   Bagging Classifier  ...  0.869529\n",
              "3                  AdaBoost Classifier  ...  0.905212\n",
              "4    AdaBoost+Random Forest Classifier  ...  0.908980\n",
              "\n",
              "[5 rows x 4 columns]"
            ]
          },
          "metadata": {
            "tags": []
          },
          "execution_count": 50
        }
      ]
    },
    {
      "cell_type": "code",
      "metadata": {
        "id": "2mdUIu-RJI_c",
        "colab": {
          "base_uri": "https://localhost:8080/"
        },
        "outputId": "b8b0837b-33f5-4385-e3f8-a51fc4565665"
      },
      "source": [
        "# gradient boost\r\n",
        "from sklearn.datasets import make_classification\r\n",
        "from sklearn.ensemble import GradientBoostingClassifier\r\n",
        "gbc1 = GradientBoostingClassifier()\r\n",
        "gbc1.fit(X_train1, y_train1)\r\n",
        "print_score(gbc1, X_train1, X_test1, y_train1, y_test1, train=True)\r\n",
        "print_score(gbc1, X_train1, X_test1, y_train1, y_test1, train=False)\r\n"
      ],
      "execution_count": 51,
      "outputs": [
        {
          "output_type": "stream",
          "text": [
            "Train Result:\n",
            "\n",
            "accuracy score: 0.8553\n",
            "\n",
            "Classification Report: \n",
            "               precision    recall  f1-score   support\n",
            "\n",
            "         0.0       0.87      0.94      0.91     15432\n",
            "         1.0       0.79      0.62      0.69      5522\n",
            "\n",
            "    accuracy                           0.86     20954\n",
            "   macro avg       0.83      0.78      0.80     20954\n",
            "weighted avg       0.85      0.86      0.85     20954\n",
            "\n",
            "\n",
            "Confusion Matrix: \n",
            " [[14518   914]\n",
            " [ 2118  3404]]\n",
            "\n",
            "ROC AUC: 0.7786\n",
            "\n",
            "Average Accuracy: \t 0.8515\n",
            "Accuracy SD: \t\t 0.0055\n",
            "Test Result:\n",
            "\n",
            "accuracy score: 0.8500\n",
            "\n",
            "Classification Report: \n",
            "               precision    recall  f1-score   support\n",
            "\n",
            "         0.0       0.86      0.94      0.90      3817\n",
            "         1.0       0.80      0.60      0.68      1422\n",
            "\n",
            "    accuracy                           0.85      5239\n",
            "   macro avg       0.83      0.77      0.79      5239\n",
            "weighted avg       0.85      0.85      0.84      5239\n",
            "\n",
            "\n",
            "Confusion Matrix: \n",
            " [[3603  214]\n",
            " [ 572  850]]\n",
            "\n",
            "ROC AUC: 0.7708\n",
            "\n"
          ],
          "name": "stdout"
        }
      ]
    },
    {
      "cell_type": "code",
      "metadata": {
        "id": "IizSmqPYIXOX",
        "colab": {
          "base_uri": "https://localhost:8080/",
          "height": 235
        },
        "outputId": "574ad444-3a45-4939-866f-223df1914b9b"
      },
      "source": [
        "yproba = gbc1.predict_proba(X_test1)[::,1]\r\n",
        "fpr, tpr, _ = roc_curve(y_test1,  yproba)\r\n",
        "auc = roc_auc_score(y_test1, yproba)\r\n",
        "result_table1 = result_table1.append({'classifiers':'Gradient Boosting Classifier',\r\n",
        "                                        'fpr':fpr, \r\n",
        "                                        'tpr':tpr, \r\n",
        "                                        'auc':auc}, ignore_index=True)\r\n",
        "result_table1"
      ],
      "execution_count": 52,
      "outputs": [
        {
          "output_type": "execute_result",
          "data": {
            "text/html": [
              "<div>\n",
              "<style scoped>\n",
              "    .dataframe tbody tr th:only-of-type {\n",
              "        vertical-align: middle;\n",
              "    }\n",
              "\n",
              "    .dataframe tbody tr th {\n",
              "        vertical-align: top;\n",
              "    }\n",
              "\n",
              "    .dataframe thead th {\n",
              "        text-align: right;\n",
              "    }\n",
              "</style>\n",
              "<table border=\"1\" class=\"dataframe\">\n",
              "  <thead>\n",
              "    <tr style=\"text-align: right;\">\n",
              "      <th></th>\n",
              "      <th>classifiers</th>\n",
              "      <th>fpr</th>\n",
              "      <th>tpr</th>\n",
              "      <th>auc</th>\n",
              "    </tr>\n",
              "  </thead>\n",
              "  <tbody>\n",
              "    <tr>\n",
              "      <th>0</th>\n",
              "      <td>Logistic Regression before resample</td>\n",
              "      <td>[0.0, 0.0, 0.0, 0.00026198585276395077, 0.0002...</td>\n",
              "      <td>[0.0, 0.0007032348804500703, 0.035864978902953...</td>\n",
              "      <td>0.882813</td>\n",
              "    </tr>\n",
              "    <tr>\n",
              "      <th>1</th>\n",
              "      <td>Decision Tree Classifier</td>\n",
              "      <td>[0.0, 0.13728058684831018, 0.13728058684831018...</td>\n",
              "      <td>[0.0, 0.569620253164557, 0.570323488045007, 0....</td>\n",
              "      <td>0.730195</td>\n",
              "    </tr>\n",
              "    <tr>\n",
              "      <th>2</th>\n",
              "      <td>Bagging Classifier</td>\n",
              "      <td>[0.0, 0.001047943411055803, 0.0015719151165837...</td>\n",
              "      <td>[0.0, 0.22925457102672292, 0.24120956399437413...</td>\n",
              "      <td>0.869529</td>\n",
              "    </tr>\n",
              "    <tr>\n",
              "      <th>3</th>\n",
              "      <td>AdaBoost Classifier</td>\n",
              "      <td>[0.0, 0.0, 0.0, 0.0, 0.0, 0.0, 0.0, 0.0, 0.0, ...</td>\n",
              "      <td>[0.0, 0.0014064697609001407, 0.004219409282700...</td>\n",
              "      <td>0.905212</td>\n",
              "    </tr>\n",
              "    <tr>\n",
              "      <th>4</th>\n",
              "      <td>AdaBoost+Random Forest Classifier</td>\n",
              "      <td>[0.0, 0.0, 0.0, 0.00026198585276395077, 0.0002...</td>\n",
              "      <td>[0.0, 0.0007032348804500703, 0.053445850914205...</td>\n",
              "      <td>0.908980</td>\n",
              "    </tr>\n",
              "    <tr>\n",
              "      <th>5</th>\n",
              "      <td>Gradient Boosting Classifier</td>\n",
              "      <td>[0.0, 0.0, 0.0, 0.0, 0.0, 0.0, 0.0, 0.0, 0.0, ...</td>\n",
              "      <td>[0.0, 0.0007032348804500703, 0.004219409282700...</td>\n",
              "      <td>0.915696</td>\n",
              "    </tr>\n",
              "  </tbody>\n",
              "</table>\n",
              "</div>"
            ],
            "text/plain": [
              "                           classifiers  ...       auc\n",
              "0  Logistic Regression before resample  ...  0.882813\n",
              "1             Decision Tree Classifier  ...  0.730195\n",
              "2                   Bagging Classifier  ...  0.869529\n",
              "3                  AdaBoost Classifier  ...  0.905212\n",
              "4    AdaBoost+Random Forest Classifier  ...  0.908980\n",
              "5         Gradient Boosting Classifier  ...  0.915696\n",
              "\n",
              "[6 rows x 4 columns]"
            ]
          },
          "metadata": {
            "tags": []
          },
          "execution_count": 52
        }
      ]
    },
    {
      "cell_type": "code",
      "metadata": {
        "id": "tHEiyY5FJj24",
        "colab": {
          "base_uri": "https://localhost:8080/"
        },
        "outputId": "295adddf-f7ff-4ee1-97a8-353bd520681d"
      },
      "source": [
        "# xgboost\r\n",
        "import xgboost as xgb\r\n",
        "xg_reg1 = xgb.XGBClassifier()\r\n",
        "xg_reg1.fit(X_train1,y_train1)\r\n",
        "print_score(xg_reg1, X_train1, X_test1, y_train1, y_test1, train=True)\r\n",
        "print_score(xg_reg1, X_train1, X_test1, y_train1, y_test1, train=False)"
      ],
      "execution_count": 53,
      "outputs": [
        {
          "output_type": "stream",
          "text": [
            "Train Result:\n",
            "\n",
            "accuracy score: 0.8530\n",
            "\n",
            "Classification Report: \n",
            "               precision    recall  f1-score   support\n",
            "\n",
            "         0.0       0.87      0.94      0.90     15432\n",
            "         1.0       0.79      0.60      0.68      5522\n",
            "\n",
            "    accuracy                           0.85     20954\n",
            "   macro avg       0.83      0.77      0.79     20954\n",
            "weighted avg       0.85      0.85      0.85     20954\n",
            "\n",
            "\n",
            "Confusion Matrix: \n",
            " [[14572   860]\n",
            " [ 2220  3302]]\n",
            "\n",
            "ROC AUC: 0.7711\n",
            "\n",
            "Average Accuracy: \t 0.8496\n",
            "Accuracy SD: \t\t 0.0048\n",
            "Test Result:\n",
            "\n",
            "accuracy score: 0.8500\n",
            "\n",
            "Classification Report: \n",
            "               precision    recall  f1-score   support\n",
            "\n",
            "         0.0       0.86      0.95      0.90      3817\n",
            "         1.0       0.81      0.59      0.68      1422\n",
            "\n",
            "    accuracy                           0.85      5239\n",
            "   macro avg       0.83      0.77      0.79      5239\n",
            "weighted avg       0.85      0.85      0.84      5239\n",
            "\n",
            "\n",
            "Confusion Matrix: \n",
            " [[3616  201]\n",
            " [ 585  837]]\n",
            "\n",
            "ROC AUC: 0.7680\n",
            "\n"
          ],
          "name": "stdout"
        }
      ]
    },
    {
      "cell_type": "code",
      "metadata": {
        "id": "JyInJqwcIe32",
        "colab": {
          "base_uri": "https://localhost:8080/",
          "height": 266
        },
        "outputId": "b2d547e7-19f4-4ab9-e23a-558e0b523177"
      },
      "source": [
        "yproba = xg_reg1.predict_proba(X_test1)[::,1]\r\n",
        "fpr, tpr, _ = roc_curve(y_test1,  yproba)\r\n",
        "auc = roc_auc_score(y_test1, yproba)\r\n",
        "result_table1 = result_table1.append({'classifiers':'XGBoost',\r\n",
        "                                        'fpr':fpr, \r\n",
        "                                        'tpr':tpr, \r\n",
        "                                        'auc':auc}, ignore_index=True)\r\n",
        "result_table1"
      ],
      "execution_count": 54,
      "outputs": [
        {
          "output_type": "execute_result",
          "data": {
            "text/html": [
              "<div>\n",
              "<style scoped>\n",
              "    .dataframe tbody tr th:only-of-type {\n",
              "        vertical-align: middle;\n",
              "    }\n",
              "\n",
              "    .dataframe tbody tr th {\n",
              "        vertical-align: top;\n",
              "    }\n",
              "\n",
              "    .dataframe thead th {\n",
              "        text-align: right;\n",
              "    }\n",
              "</style>\n",
              "<table border=\"1\" class=\"dataframe\">\n",
              "  <thead>\n",
              "    <tr style=\"text-align: right;\">\n",
              "      <th></th>\n",
              "      <th>classifiers</th>\n",
              "      <th>fpr</th>\n",
              "      <th>tpr</th>\n",
              "      <th>auc</th>\n",
              "    </tr>\n",
              "  </thead>\n",
              "  <tbody>\n",
              "    <tr>\n",
              "      <th>0</th>\n",
              "      <td>Logistic Regression before resample</td>\n",
              "      <td>[0.0, 0.0, 0.0, 0.00026198585276395077, 0.0002...</td>\n",
              "      <td>[0.0, 0.0007032348804500703, 0.035864978902953...</td>\n",
              "      <td>0.882813</td>\n",
              "    </tr>\n",
              "    <tr>\n",
              "      <th>1</th>\n",
              "      <td>Decision Tree Classifier</td>\n",
              "      <td>[0.0, 0.13728058684831018, 0.13728058684831018...</td>\n",
              "      <td>[0.0, 0.569620253164557, 0.570323488045007, 0....</td>\n",
              "      <td>0.730195</td>\n",
              "    </tr>\n",
              "    <tr>\n",
              "      <th>2</th>\n",
              "      <td>Bagging Classifier</td>\n",
              "      <td>[0.0, 0.001047943411055803, 0.0015719151165837...</td>\n",
              "      <td>[0.0, 0.22925457102672292, 0.24120956399437413...</td>\n",
              "      <td>0.869529</td>\n",
              "    </tr>\n",
              "    <tr>\n",
              "      <th>3</th>\n",
              "      <td>AdaBoost Classifier</td>\n",
              "      <td>[0.0, 0.0, 0.0, 0.0, 0.0, 0.0, 0.0, 0.0, 0.0, ...</td>\n",
              "      <td>[0.0, 0.0014064697609001407, 0.004219409282700...</td>\n",
              "      <td>0.905212</td>\n",
              "    </tr>\n",
              "    <tr>\n",
              "      <th>4</th>\n",
              "      <td>AdaBoost+Random Forest Classifier</td>\n",
              "      <td>[0.0, 0.0, 0.0, 0.00026198585276395077, 0.0002...</td>\n",
              "      <td>[0.0, 0.0007032348804500703, 0.053445850914205...</td>\n",
              "      <td>0.908980</td>\n",
              "    </tr>\n",
              "    <tr>\n",
              "      <th>5</th>\n",
              "      <td>Gradient Boosting Classifier</td>\n",
              "      <td>[0.0, 0.0, 0.0, 0.0, 0.0, 0.0, 0.0, 0.0, 0.0, ...</td>\n",
              "      <td>[0.0, 0.0007032348804500703, 0.004219409282700...</td>\n",
              "      <td>0.915696</td>\n",
              "    </tr>\n",
              "    <tr>\n",
              "      <th>6</th>\n",
              "      <td>XGBoost</td>\n",
              "      <td>[0.0, 0.0, 0.0, 0.0, 0.0, 0.0, 0.0, 0.0, 0.0, ...</td>\n",
              "      <td>[0.0, 0.0007032348804500703, 0.002109704641350...</td>\n",
              "      <td>0.915635</td>\n",
              "    </tr>\n",
              "  </tbody>\n",
              "</table>\n",
              "</div>"
            ],
            "text/plain": [
              "                           classifiers  ...       auc\n",
              "0  Logistic Regression before resample  ...  0.882813\n",
              "1             Decision Tree Classifier  ...  0.730195\n",
              "2                   Bagging Classifier  ...  0.869529\n",
              "3                  AdaBoost Classifier  ...  0.905212\n",
              "4    AdaBoost+Random Forest Classifier  ...  0.908980\n",
              "5         Gradient Boosting Classifier  ...  0.915696\n",
              "6                              XGBoost  ...  0.915635\n",
              "\n",
              "[7 rows x 4 columns]"
            ]
          },
          "metadata": {
            "tags": []
          },
          "execution_count": 54
        }
      ]
    },
    {
      "cell_type": "code",
      "metadata": {
        "id": "pDXYfR-eJ4kJ",
        "colab": {
          "base_uri": "https://localhost:8080/"
        },
        "outputId": "118a3ec1-708a-4692-ef43-7a0c64f9d770"
      },
      "source": [
        "# stacking\r\n",
        "# meta \r\n",
        "# xgboost + bagging\r\n",
        "# lr\r\n",
        "from sklearn.linear_model import LogisticRegression\r\n",
        "\r\n",
        "train_pred11 = pd.DataFrame(xg_reg1.predict(X_train1))\r\n",
        "test_pred11 = pd.DataFrame(xg_reg1.predict(X_test1))\r\n",
        "train_pred22 = pd.DataFrame(bag_clf1.predict(X_train1))\r\n",
        "test_pred22 = pd.DataFrame(bag_clf1.predict(X_test1))\r\n",
        "\r\n",
        "st1 = pd.concat([train_pred11, train_pred22], axis=1)\r\n",
        "st_test1 = pd.concat([test_pred11, test_pred22], axis=1)\r\n",
        "\r\n",
        "model1 = LogisticRegression(random_state = 1)\r\n",
        "model1.fit(st1, y_train1)\r\n",
        "\r\n",
        "print_score(model1, st1, st_test1, y_train1, y_test1, train=True)\r\n",
        "print_score(model1, st1, st_test1, y_train1, y_test1, train=False)\r\n"
      ],
      "execution_count": 55,
      "outputs": [
        {
          "output_type": "stream",
          "text": [
            "Train Result:\n",
            "\n",
            "accuracy score: 0.9727\n",
            "\n",
            "Classification Report: \n",
            "               precision    recall  f1-score   support\n",
            "\n",
            "         0.0       0.98      0.99      0.98     15432\n",
            "         1.0       0.96      0.94      0.95      5522\n",
            "\n",
            "    accuracy                           0.97     20954\n",
            "   macro avg       0.97      0.96      0.96     20954\n",
            "weighted avg       0.97      0.97      0.97     20954\n",
            "\n",
            "\n",
            "Confusion Matrix: \n",
            " [[15210   222]\n",
            " [  350  5172]]\n",
            "\n",
            "ROC AUC: 0.9611\n",
            "\n",
            "Average Accuracy: \t 0.9727\n",
            "Accuracy SD: \t\t 0.0018\n",
            "Test Result:\n",
            "\n",
            "accuracy score: 0.8135\n",
            "\n",
            "Classification Report: \n",
            "               precision    recall  f1-score   support\n",
            "\n",
            "         0.0       0.85      0.90      0.88      3817\n",
            "         1.0       0.68      0.59      0.63      1422\n",
            "\n",
            "    accuracy                           0.81      5239\n",
            "   macro avg       0.77      0.74      0.75      5239\n",
            "weighted avg       0.81      0.81      0.81      5239\n",
            "\n",
            "\n",
            "Confusion Matrix: \n",
            " [[3423  394]\n",
            " [ 583  839]]\n",
            "\n",
            "ROC AUC: 0.7434\n",
            "\n"
          ],
          "name": "stdout"
        }
      ]
    },
    {
      "cell_type": "markdown",
      "metadata": {
        "id": "662yEEuZ8xS0"
      },
      "source": [
        "# Logistic Regression (after under-sampling)"
      ]
    },
    {
      "cell_type": "code",
      "metadata": {
        "id": "t9BqKf9d9VsH"
      },
      "source": [
        "lr = LogisticRegression(random_state=0,max_iter=1000).fit(X_train, y_train)"
      ],
      "execution_count": 56,
      "outputs": []
    },
    {
      "cell_type": "code",
      "metadata": {
        "id": "4DEG-ZqFr4JN",
        "colab": {
          "base_uri": "https://localhost:8080/",
          "height": 80
        },
        "outputId": "404bd42a-a257-418e-b632-7b9c88cb740d"
      },
      "source": [
        "yproba = lr.predict_proba(X_test)[::,1]\n",
        "fpr, tpr, _ = roc_curve(y_test,  yproba)\n",
        "auc = roc_auc_score(y_test, yproba)\n",
        "result_table = result_table.append({'classifiers':'Logistic Regression after resample',\n",
        "                                        'fpr':fpr, \n",
        "                                        'tpr':tpr, \n",
        "                                        'auc':auc}, ignore_index=True)\n",
        "result_table"
      ],
      "execution_count": 57,
      "outputs": [
        {
          "output_type": "execute_result",
          "data": {
            "text/html": [
              "<div>\n",
              "<style scoped>\n",
              "    .dataframe tbody tr th:only-of-type {\n",
              "        vertical-align: middle;\n",
              "    }\n",
              "\n",
              "    .dataframe tbody tr th {\n",
              "        vertical-align: top;\n",
              "    }\n",
              "\n",
              "    .dataframe thead th {\n",
              "        text-align: right;\n",
              "    }\n",
              "</style>\n",
              "<table border=\"1\" class=\"dataframe\">\n",
              "  <thead>\n",
              "    <tr style=\"text-align: right;\">\n",
              "      <th></th>\n",
              "      <th>classifiers</th>\n",
              "      <th>fpr</th>\n",
              "      <th>tpr</th>\n",
              "      <th>auc</th>\n",
              "    </tr>\n",
              "  </thead>\n",
              "  <tbody>\n",
              "    <tr>\n",
              "      <th>0</th>\n",
              "      <td>Logistic Regression after resample</td>\n",
              "      <td>[0.0, 0.0, 0.0, 0.0005239717055279015, 0.00052...</td>\n",
              "      <td>[0.0, 0.0007032348804500703, 0.030942334739803...</td>\n",
              "      <td>0.881293</td>\n",
              "    </tr>\n",
              "  </tbody>\n",
              "</table>\n",
              "</div>"
            ],
            "text/plain": [
              "                          classifiers  ...       auc\n",
              "0  Logistic Regression after resample  ...  0.881293\n",
              "\n",
              "[1 rows x 4 columns]"
            ]
          },
          "metadata": {
            "tags": []
          },
          "execution_count": 57
        }
      ]
    },
    {
      "cell_type": "code",
      "metadata": {
        "id": "nOOTc9J39gzk",
        "colab": {
          "base_uri": "https://localhost:8080/"
        },
        "outputId": "61f0e90c-9dbd-4fbf-f794-2de3980e3ba5"
      },
      "source": [
        "print_score(lr, X_train, X_test, y_train, y_test, train=True) "
      ],
      "execution_count": 58,
      "outputs": [
        {
          "output_type": "stream",
          "text": [
            "Train Result:\n",
            "\n",
            "accuracy score: 0.7930\n",
            "\n",
            "Classification Report: \n",
            "               precision    recall  f1-score   support\n",
            "\n",
            "         0.0       0.82      0.79      0.80      6145\n",
            "         1.0       0.77      0.80      0.79      5522\n",
            "\n",
            "    accuracy                           0.79     11667\n",
            "   macro avg       0.79      0.79      0.79     11667\n",
            "weighted avg       0.79      0.79      0.79     11667\n",
            "\n",
            "\n",
            "Confusion Matrix: \n",
            " [[4824 1321]\n",
            " [1094 4428]]\n",
            "\n",
            "ROC AUC: 0.7935\n",
            "\n",
            "Average Accuracy: \t 0.7923\n",
            "Accuracy SD: \t\t 0.0121\n"
          ],
          "name": "stdout"
        }
      ]
    },
    {
      "cell_type": "code",
      "metadata": {
        "id": "9iuUaEPD96sp",
        "colab": {
          "base_uri": "https://localhost:8080/"
        },
        "outputId": "228cc8a9-33d5-4695-f9fe-725da5712f2c"
      },
      "source": [
        "print_score(lr, X_train, X_test, y_train, y_test, train=False) "
      ],
      "execution_count": 59,
      "outputs": [
        {
          "output_type": "stream",
          "text": [
            "Test Result:\n",
            "\n",
            "accuracy score: 0.7956\n",
            "\n",
            "Classification Report: \n",
            "               precision    recall  f1-score   support\n",
            "\n",
            "         0.0       0.91      0.80      0.85      3817\n",
            "         1.0       0.59      0.79      0.68      1422\n",
            "\n",
            "    accuracy                           0.80      5239\n",
            "   macro avg       0.75      0.79      0.76      5239\n",
            "weighted avg       0.82      0.80      0.80      5239\n",
            "\n",
            "\n",
            "Confusion Matrix: \n",
            " [[3049  768]\n",
            " [ 303 1119]]\n",
            "\n",
            "ROC AUC: 0.7929\n",
            "\n"
          ],
          "name": "stdout"
        }
      ]
    },
    {
      "cell_type": "markdown",
      "metadata": {
        "id": "KGdoQwDpbuyc"
      },
      "source": [
        "# Bagging"
      ]
    },
    {
      "cell_type": "markdown",
      "metadata": {
        "id": "4h65SE2rb55c"
      },
      "source": [
        "implementing the base classifier, the decision tree."
      ]
    },
    {
      "cell_type": "code",
      "metadata": {
        "id": "OfIfrCyThI9f"
      },
      "source": [
        "from sklearn.tree import DecisionTreeClassifier\n",
        "from sklearn.ensemble import BaggingClassifier"
      ],
      "execution_count": 60,
      "outputs": []
    },
    {
      "cell_type": "code",
      "metadata": {
        "id": "uS33cZHMb2Tl",
        "colab": {
          "base_uri": "https://localhost:8080/"
        },
        "outputId": "2118d574-07a4-4e88-fb0f-2455a73711f0"
      },
      "source": [
        "dt = DecisionTreeClassifier(random_state=42)\n",
        "dt.fit(X_train, y_train)"
      ],
      "execution_count": 61,
      "outputs": [
        {
          "output_type": "execute_result",
          "data": {
            "text/plain": [
              "DecisionTreeClassifier(ccp_alpha=0.0, class_weight=None, criterion='gini',\n",
              "                       max_depth=None, max_features=None, max_leaf_nodes=None,\n",
              "                       min_impurity_decrease=0.0, min_impurity_split=None,\n",
              "                       min_samples_leaf=1, min_samples_split=2,\n",
              "                       min_weight_fraction_leaf=0.0, presort='deprecated',\n",
              "                       random_state=42, splitter='best')"
            ]
          },
          "metadata": {
            "tags": []
          },
          "execution_count": 61
        }
      ]
    },
    {
      "cell_type": "code",
      "metadata": {
        "id": "tKCMk2-GsBLD",
        "colab": {
          "base_uri": "https://localhost:8080/",
          "height": 111
        },
        "outputId": "b8e367c7-cadc-4466-cfd6-7e2221e937d5"
      },
      "source": [
        "yproba = dt.predict_proba(X_test)[::,1]\n",
        "fpr, tpr, _ = roc_curve(y_test,  yproba)\n",
        "auc = roc_auc_score(y_test, yproba)\n",
        "result_table = result_table.append({'classifiers':'Decision Tree Classifier',\n",
        "                                        'fpr':fpr, \n",
        "                                        'tpr':tpr, \n",
        "                                        'auc':auc}, ignore_index=True)\n",
        "result_table"
      ],
      "execution_count": 62,
      "outputs": [
        {
          "output_type": "execute_result",
          "data": {
            "text/html": [
              "<div>\n",
              "<style scoped>\n",
              "    .dataframe tbody tr th:only-of-type {\n",
              "        vertical-align: middle;\n",
              "    }\n",
              "\n",
              "    .dataframe tbody tr th {\n",
              "        vertical-align: top;\n",
              "    }\n",
              "\n",
              "    .dataframe thead th {\n",
              "        text-align: right;\n",
              "    }\n",
              "</style>\n",
              "<table border=\"1\" class=\"dataframe\">\n",
              "  <thead>\n",
              "    <tr style=\"text-align: right;\">\n",
              "      <th></th>\n",
              "      <th>classifiers</th>\n",
              "      <th>fpr</th>\n",
              "      <th>tpr</th>\n",
              "      <th>auc</th>\n",
              "    </tr>\n",
              "  </thead>\n",
              "  <tbody>\n",
              "    <tr>\n",
              "      <th>0</th>\n",
              "      <td>Logistic Regression after resample</td>\n",
              "      <td>[0.0, 0.0, 0.0, 0.0005239717055279015, 0.00052...</td>\n",
              "      <td>[0.0, 0.0007032348804500703, 0.030942334739803...</td>\n",
              "      <td>0.881293</td>\n",
              "    </tr>\n",
              "    <tr>\n",
              "      <th>1</th>\n",
              "      <td>Decision Tree Classifier</td>\n",
              "      <td>[0.0, 0.2213780455855384, 0.22347393240764998,...</td>\n",
              "      <td>[0.0, 0.6962025316455697, 0.69901547116737, 0....</td>\n",
              "      <td>0.749761</td>\n",
              "    </tr>\n",
              "  </tbody>\n",
              "</table>\n",
              "</div>"
            ],
            "text/plain": [
              "                          classifiers  ...       auc\n",
              "0  Logistic Regression after resample  ...  0.881293\n",
              "1            Decision Tree Classifier  ...  0.749761\n",
              "\n",
              "[2 rows x 4 columns]"
            ]
          },
          "metadata": {
            "tags": []
          },
          "execution_count": 62
        }
      ]
    },
    {
      "cell_type": "code",
      "metadata": {
        "id": "tUlMFJL_b8j3",
        "colab": {
          "base_uri": "https://localhost:8080/"
        },
        "outputId": "0d6416b9-6225-4100-bd81-f4fdc34c5976"
      },
      "source": [
        "#printing train scores.\n",
        "print_score(dt, X_train, X_test, y_train, y_test, train=True) "
      ],
      "execution_count": 63,
      "outputs": [
        {
          "output_type": "stream",
          "text": [
            "Train Result:\n",
            "\n",
            "accuracy score: 0.9777\n",
            "\n",
            "Classification Report: \n",
            "               precision    recall  f1-score   support\n",
            "\n",
            "         0.0       0.96      1.00      0.98      6145\n",
            "         1.0       1.00      0.96      0.98      5522\n",
            "\n",
            "    accuracy                           0.98     11667\n",
            "   macro avg       0.98      0.98      0.98     11667\n",
            "weighted avg       0.98      0.98      0.98     11667\n",
            "\n",
            "\n",
            "Confusion Matrix: \n",
            " [[6124   21]\n",
            " [ 239 5283]]\n",
            "\n",
            "ROC AUC: 0.9767\n",
            "\n",
            "Average Accuracy: \t 0.7364\n",
            "Accuracy SD: \t\t 0.0072\n"
          ],
          "name": "stdout"
        }
      ]
    },
    {
      "cell_type": "code",
      "metadata": {
        "id": "oT5MoIqNb-SD",
        "colab": {
          "base_uri": "https://localhost:8080/"
        },
        "outputId": "5b3501e6-a96a-4729-8a61-fed0e6125ddc"
      },
      "source": [
        "print_score(dt, X_train, X_test, y_train, y_test, train=False) "
      ],
      "execution_count": 64,
      "outputs": [
        {
          "output_type": "stream",
          "text": [
            "Test Result:\n",
            "\n",
            "accuracy score: 0.7555\n",
            "\n",
            "Classification Report: \n",
            "               precision    recall  f1-score   support\n",
            "\n",
            "         0.0       0.87      0.78      0.82      3817\n",
            "         1.0       0.54      0.70      0.61      1422\n",
            "\n",
            "    accuracy                           0.76      5239\n",
            "   macro avg       0.71      0.74      0.72      5239\n",
            "weighted avg       0.78      0.76      0.76      5239\n",
            "\n",
            "\n",
            "Confusion Matrix: \n",
            " [[2964  853]\n",
            " [ 428  994]]\n",
            "\n",
            "ROC AUC: 0.7378\n",
            "\n"
          ],
          "name": "stdout"
        }
      ]
    },
    {
      "cell_type": "code",
      "metadata": {
        "id": "DQ0TbrSxcBYo",
        "colab": {
          "base_uri": "https://localhost:8080/"
        },
        "outputId": "a950097d-4786-482c-d28e-896ad17c92d9"
      },
      "source": [
        "#implementing bagging\n",
        "bag_clf = BaggingClassifier(base_estimator=dt, n_estimators=200, bootstrap=True, oob_score=True, n_jobs=-1)\n",
        "bag_clf.fit(X_train, y_train)"
      ],
      "execution_count": 65,
      "outputs": [
        {
          "output_type": "execute_result",
          "data": {
            "text/plain": [
              "BaggingClassifier(base_estimator=DecisionTreeClassifier(ccp_alpha=0.0,\n",
              "                                                        class_weight=None,\n",
              "                                                        criterion='gini',\n",
              "                                                        max_depth=None,\n",
              "                                                        max_features=None,\n",
              "                                                        max_leaf_nodes=None,\n",
              "                                                        min_impurity_decrease=0.0,\n",
              "                                                        min_impurity_split=None,\n",
              "                                                        min_samples_leaf=1,\n",
              "                                                        min_samples_split=2,\n",
              "                                                        min_weight_fraction_leaf=0.0,\n",
              "                                                        presort='deprecated',\n",
              "                                                        random_state=42,\n",
              "                                                        splitter='best'),\n",
              "                  bootstrap=True, bootstrap_features=False, max_features=1.0,\n",
              "                  max_samples=1.0, n_estimators=200, n_jobs=-1, oob_score=True,\n",
              "                  random_state=None, verbose=0, warm_start=False)"
            ]
          },
          "metadata": {
            "tags": []
          },
          "execution_count": 65
        }
      ]
    },
    {
      "cell_type": "code",
      "metadata": {
        "id": "pAQJwTi8siPm",
        "colab": {
          "base_uri": "https://localhost:8080/",
          "height": 142
        },
        "outputId": "a8fa25d1-9a11-4cd0-a846-cf785e38a409"
      },
      "source": [
        "yproba = bag_clf.predict_proba(X_test)[::,1]\n",
        "fpr, tpr, _ = roc_curve(y_test,  yproba)\n",
        "auc = roc_auc_score(y_test, yproba)\n",
        "result_table = result_table.append({'classifiers':'Bagging Classifier',\n",
        "                                        'fpr':fpr, \n",
        "                                        'tpr':tpr, \n",
        "                                        'auc':auc}, ignore_index=True)\n",
        "result_table"
      ],
      "execution_count": 66,
      "outputs": [
        {
          "output_type": "execute_result",
          "data": {
            "text/html": [
              "<div>\n",
              "<style scoped>\n",
              "    .dataframe tbody tr th:only-of-type {\n",
              "        vertical-align: middle;\n",
              "    }\n",
              "\n",
              "    .dataframe tbody tr th {\n",
              "        vertical-align: top;\n",
              "    }\n",
              "\n",
              "    .dataframe thead th {\n",
              "        text-align: right;\n",
              "    }\n",
              "</style>\n",
              "<table border=\"1\" class=\"dataframe\">\n",
              "  <thead>\n",
              "    <tr style=\"text-align: right;\">\n",
              "      <th></th>\n",
              "      <th>classifiers</th>\n",
              "      <th>fpr</th>\n",
              "      <th>tpr</th>\n",
              "      <th>auc</th>\n",
              "    </tr>\n",
              "  </thead>\n",
              "  <tbody>\n",
              "    <tr>\n",
              "      <th>0</th>\n",
              "      <td>Logistic Regression after resample</td>\n",
              "      <td>[0.0, 0.0, 0.0, 0.0005239717055279015, 0.00052...</td>\n",
              "      <td>[0.0, 0.0007032348804500703, 0.030942334739803...</td>\n",
              "      <td>0.881293</td>\n",
              "    </tr>\n",
              "    <tr>\n",
              "      <th>1</th>\n",
              "      <td>Decision Tree Classifier</td>\n",
              "      <td>[0.0, 0.2213780455855384, 0.22347393240764998,...</td>\n",
              "      <td>[0.0, 0.6962025316455697, 0.69901547116737, 0....</td>\n",
              "      <td>0.749761</td>\n",
              "    </tr>\n",
              "    <tr>\n",
              "      <th>2</th>\n",
              "      <td>Bagging Classifier</td>\n",
              "      <td>[0.0, 0.002357872674875557, 0.0034058160859313...</td>\n",
              "      <td>[0.0, 0.24261603375527427, 0.26019690576652604...</td>\n",
              "      <td>0.878506</td>\n",
              "    </tr>\n",
              "  </tbody>\n",
              "</table>\n",
              "</div>"
            ],
            "text/plain": [
              "                          classifiers  ...       auc\n",
              "0  Logistic Regression after resample  ...  0.881293\n",
              "1            Decision Tree Classifier  ...  0.749761\n",
              "2                  Bagging Classifier  ...  0.878506\n",
              "\n",
              "[3 rows x 4 columns]"
            ]
          },
          "metadata": {
            "tags": []
          },
          "execution_count": 66
        }
      ]
    },
    {
      "cell_type": "code",
      "metadata": {
        "id": "9ELJ4wNIeZuT",
        "colab": {
          "base_uri": "https://localhost:8080/"
        },
        "outputId": "5b24bbe8-2274-4cf2-ba59-bbefb0503ec5"
      },
      "source": [
        "print_score(bag_clf,X_train, X_test, y_train, y_test, train=True)"
      ],
      "execution_count": 67,
      "outputs": [
        {
          "output_type": "stream",
          "text": [
            "Train Result:\n",
            "\n",
            "accuracy score: 0.9777\n",
            "\n",
            "Classification Report: \n",
            "               precision    recall  f1-score   support\n",
            "\n",
            "         0.0       0.98      0.97      0.98      6145\n",
            "         1.0       0.97      0.98      0.98      5522\n",
            "\n",
            "    accuracy                           0.98     11667\n",
            "   macro avg       0.98      0.98      0.98     11667\n",
            "weighted avg       0.98      0.98      0.98     11667\n",
            "\n",
            "\n",
            "Confusion Matrix: \n",
            " [[5986  159]\n",
            " [ 101 5421]]\n",
            "\n",
            "ROC AUC: 0.9779\n",
            "\n",
            "Average Accuracy: \t 0.7818\n",
            "Accuracy SD: \t\t 0.0103\n"
          ],
          "name": "stdout"
        }
      ]
    },
    {
      "cell_type": "code",
      "metadata": {
        "id": "j4MO6smHebq6",
        "colab": {
          "base_uri": "https://localhost:8080/"
        },
        "outputId": "0dcafd46-c2e9-49a6-ec7a-f98919e6a73e"
      },
      "source": [
        "print_score(bag_clf, X_train, X_test, y_train, y_test, train=False)"
      ],
      "execution_count": 68,
      "outputs": [
        {
          "output_type": "stream",
          "text": [
            "Test Result:\n",
            "\n",
            "accuracy score: 0.7977\n",
            "\n",
            "Classification Report: \n",
            "               precision    recall  f1-score   support\n",
            "\n",
            "         0.0       0.90      0.81      0.85      3817\n",
            "         1.0       0.60      0.76      0.67      1422\n",
            "\n",
            "    accuracy                           0.80      5239\n",
            "   macro avg       0.75      0.79      0.76      5239\n",
            "weighted avg       0.82      0.80      0.80      5239\n",
            "\n",
            "\n",
            "Confusion Matrix: \n",
            " [[3093  724]\n",
            " [ 336 1086]]\n",
            "\n",
            "ROC AUC: 0.7870\n",
            "\n"
          ],
          "name": "stdout"
        }
      ]
    },
    {
      "cell_type": "markdown",
      "metadata": {
        "id": "d6018vZMekBL"
      },
      "source": [
        "# Boosting"
      ]
    },
    {
      "cell_type": "code",
      "metadata": {
        "id": "6N5FrptwhTzF"
      },
      "source": [
        "from sklearn.ensemble import AdaBoostClassifier"
      ],
      "execution_count": 69,
      "outputs": []
    },
    {
      "cell_type": "code",
      "metadata": {
        "id": "Bo0GRsJ5etqy"
      },
      "source": [
        "abc = AdaBoostClassifier(n_estimators=50,learning_rate=1)\n",
        "# Train Adaboost Classifer\n",
        "model = abc.fit(X_train, y_train) #implementing \n",
        "\n",
        "#Predict the response for test dataset\n",
        "y_pred = model.predict(X_test)"
      ],
      "execution_count": 70,
      "outputs": []
    },
    {
      "cell_type": "code",
      "metadata": {
        "id": "rnLdiCVAs_kW",
        "colab": {
          "base_uri": "https://localhost:8080/",
          "height": 173
        },
        "outputId": "9f7d76d1-424c-4aad-ccb6-9393657d1649"
      },
      "source": [
        "yproba = abc.predict_proba(X_test)[::,1]\n",
        "fpr, tpr, _ = roc_curve(y_test,  yproba)\n",
        "auc = roc_auc_score(y_test, yproba)\n",
        "result_table = result_table.append({'classifiers':'AdaBoost Classifier',\n",
        "                                        'fpr':fpr, \n",
        "                                        'tpr':tpr, \n",
        "                                        'auc':auc}, ignore_index=True)\n",
        "result_table"
      ],
      "execution_count": 71,
      "outputs": [
        {
          "output_type": "execute_result",
          "data": {
            "text/html": [
              "<div>\n",
              "<style scoped>\n",
              "    .dataframe tbody tr th:only-of-type {\n",
              "        vertical-align: middle;\n",
              "    }\n",
              "\n",
              "    .dataframe tbody tr th {\n",
              "        vertical-align: top;\n",
              "    }\n",
              "\n",
              "    .dataframe thead th {\n",
              "        text-align: right;\n",
              "    }\n",
              "</style>\n",
              "<table border=\"1\" class=\"dataframe\">\n",
              "  <thead>\n",
              "    <tr style=\"text-align: right;\">\n",
              "      <th></th>\n",
              "      <th>classifiers</th>\n",
              "      <th>fpr</th>\n",
              "      <th>tpr</th>\n",
              "      <th>auc</th>\n",
              "    </tr>\n",
              "  </thead>\n",
              "  <tbody>\n",
              "    <tr>\n",
              "      <th>0</th>\n",
              "      <td>Logistic Regression after resample</td>\n",
              "      <td>[0.0, 0.0, 0.0, 0.0005239717055279015, 0.00052...</td>\n",
              "      <td>[0.0, 0.0007032348804500703, 0.030942334739803...</td>\n",
              "      <td>0.881293</td>\n",
              "    </tr>\n",
              "    <tr>\n",
              "      <th>1</th>\n",
              "      <td>Decision Tree Classifier</td>\n",
              "      <td>[0.0, 0.2213780455855384, 0.22347393240764998,...</td>\n",
              "      <td>[0.0, 0.6962025316455697, 0.69901547116737, 0....</td>\n",
              "      <td>0.749761</td>\n",
              "    </tr>\n",
              "    <tr>\n",
              "      <th>2</th>\n",
              "      <td>Bagging Classifier</td>\n",
              "      <td>[0.0, 0.002357872674875557, 0.0034058160859313...</td>\n",
              "      <td>[0.0, 0.24261603375527427, 0.26019690576652604...</td>\n",
              "      <td>0.878506</td>\n",
              "    </tr>\n",
              "    <tr>\n",
              "      <th>3</th>\n",
              "      <td>AdaBoost Classifier</td>\n",
              "      <td>[0.0, 0.0, 0.0, 0.0, 0.0, 0.0, 0.0, 0.0, 0.0, ...</td>\n",
              "      <td>[0.0, 0.0014064697609001407, 0.009142053445850...</td>\n",
              "      <td>0.906800</td>\n",
              "    </tr>\n",
              "  </tbody>\n",
              "</table>\n",
              "</div>"
            ],
            "text/plain": [
              "                          classifiers  ...       auc\n",
              "0  Logistic Regression after resample  ...  0.881293\n",
              "1            Decision Tree Classifier  ...  0.749761\n",
              "2                  Bagging Classifier  ...  0.878506\n",
              "3                 AdaBoost Classifier  ...  0.906800\n",
              "\n",
              "[4 rows x 4 columns]"
            ]
          },
          "metadata": {
            "tags": []
          },
          "execution_count": 71
        }
      ]
    },
    {
      "cell_type": "code",
      "metadata": {
        "id": "xLf615QXF3FX",
        "colab": {
          "base_uri": "https://localhost:8080/"
        },
        "outputId": "32a1ad2f-37e2-490a-f4d3-8ede6fdf1b7b"
      },
      "source": [
        "print_score(abc, X_train, X_test, y_train, y_test, train=True)"
      ],
      "execution_count": 72,
      "outputs": [
        {
          "output_type": "stream",
          "text": [
            "Train Result:\n",
            "\n",
            "accuracy score: 0.8162\n",
            "\n",
            "Classification Report: \n",
            "               precision    recall  f1-score   support\n",
            "\n",
            "         0.0       0.83      0.82      0.82      6145\n",
            "         1.0       0.80      0.81      0.81      5522\n",
            "\n",
            "    accuracy                           0.82     11667\n",
            "   macro avg       0.82      0.82      0.82     11667\n",
            "weighted avg       0.82      0.82      0.82     11667\n",
            "\n",
            "\n",
            "Confusion Matrix: \n",
            " [[5031 1114]\n",
            " [1030 4492]]\n",
            "\n",
            "ROC AUC: 0.8161\n",
            "\n",
            "Average Accuracy: \t 0.8128\n",
            "Accuracy SD: \t\t 0.0069\n"
          ],
          "name": "stdout"
        }
      ]
    },
    {
      "cell_type": "code",
      "metadata": {
        "id": "lzPY8TCtey7E",
        "colab": {
          "base_uri": "https://localhost:8080/"
        },
        "outputId": "10341e83-0173-4118-cfa3-64b2dbbfd2b5"
      },
      "source": [
        "print_score(abc, X_train, X_test, y_train, y_test, train=False)"
      ],
      "execution_count": 73,
      "outputs": [
        {
          "output_type": "stream",
          "text": [
            "Test Result:\n",
            "\n",
            "accuracy score: 0.8204\n",
            "\n",
            "Classification Report: \n",
            "               precision    recall  f1-score   support\n",
            "\n",
            "         0.0       0.92      0.83      0.87      3817\n",
            "         1.0       0.63      0.80      0.71      1422\n",
            "\n",
            "    accuracy                           0.82      5239\n",
            "   macro avg       0.78      0.81      0.79      5239\n",
            "weighted avg       0.84      0.82      0.83      5239\n",
            "\n",
            "\n",
            "Confusion Matrix: \n",
            " [[3157  660]\n",
            " [ 281 1141]]\n",
            "\n",
            "ROC AUC: 0.8147\n",
            "\n"
          ],
          "name": "stdout"
        }
      ]
    },
    {
      "cell_type": "markdown",
      "metadata": {
        "id": "pzhZi0Uxe5hm"
      },
      "source": [
        "AdaBoost + Random Forest"
      ]
    },
    {
      "cell_type": "code",
      "metadata": {
        "id": "Qe-WRQ38hWdN"
      },
      "source": [
        "from sklearn.ensemble import RandomForestClassifier"
      ],
      "execution_count": 74,
      "outputs": []
    },
    {
      "cell_type": "code",
      "metadata": {
        "id": "Xe_ixwf6e0ay",
        "colab": {
          "base_uri": "https://localhost:8080/"
        },
        "outputId": "2781d372-fb82-4e61-9853-829843035b5d"
      },
      "source": [
        "clf = RandomForestClassifier(n_estimators=100,n_jobs=-1, max_depth = 6);\n",
        "\n",
        "b_r_clf = AdaBoostClassifier(base_estimator=clf,n_estimators=clf.n_estimators) #using random forest obj as base classifier\n",
        "b_r_clf.fit(X_train, y_train)"
      ],
      "execution_count": 75,
      "outputs": [
        {
          "output_type": "execute_result",
          "data": {
            "text/plain": [
              "AdaBoostClassifier(algorithm='SAMME.R',\n",
              "                   base_estimator=RandomForestClassifier(bootstrap=True,\n",
              "                                                         ccp_alpha=0.0,\n",
              "                                                         class_weight=None,\n",
              "                                                         criterion='gini',\n",
              "                                                         max_depth=6,\n",
              "                                                         max_features='auto',\n",
              "                                                         max_leaf_nodes=None,\n",
              "                                                         max_samples=None,\n",
              "                                                         min_impurity_decrease=0.0,\n",
              "                                                         min_impurity_split=None,\n",
              "                                                         min_samples_leaf=1,\n",
              "                                                         min_samples_split=2,\n",
              "                                                         min_weight_fraction_leaf=0.0,\n",
              "                                                         n_estimators=100,\n",
              "                                                         n_jobs=-1,\n",
              "                                                         oob_score=False,\n",
              "                                                         random_state=None,\n",
              "                                                         verbose=0,\n",
              "                                                         warm_start=False),\n",
              "                   learning_rate=1.0, n_estimators=100, random_state=None)"
            ]
          },
          "metadata": {
            "tags": []
          },
          "execution_count": 75
        }
      ]
    },
    {
      "cell_type": "code",
      "metadata": {
        "id": "sTezohzktTJ7",
        "colab": {
          "base_uri": "https://localhost:8080/",
          "height": 204
        },
        "outputId": "2f102ae9-11da-4c44-b78a-0052dd6b437b"
      },
      "source": [
        "yproba = b_r_clf.predict_proba(X_test)[::,1]\n",
        "fpr, tpr, _ = roc_curve(y_test,  yproba)\n",
        "auc = roc_auc_score(y_test, yproba)\n",
        "result_table = result_table.append({'classifiers':'AdaBoost + RFC',\n",
        "                                        'fpr':fpr, \n",
        "                                        'tpr':tpr, \n",
        "                                        'auc':auc}, ignore_index=True)\n",
        "result_table"
      ],
      "execution_count": 76,
      "outputs": [
        {
          "output_type": "execute_result",
          "data": {
            "text/html": [
              "<div>\n",
              "<style scoped>\n",
              "    .dataframe tbody tr th:only-of-type {\n",
              "        vertical-align: middle;\n",
              "    }\n",
              "\n",
              "    .dataframe tbody tr th {\n",
              "        vertical-align: top;\n",
              "    }\n",
              "\n",
              "    .dataframe thead th {\n",
              "        text-align: right;\n",
              "    }\n",
              "</style>\n",
              "<table border=\"1\" class=\"dataframe\">\n",
              "  <thead>\n",
              "    <tr style=\"text-align: right;\">\n",
              "      <th></th>\n",
              "      <th>classifiers</th>\n",
              "      <th>fpr</th>\n",
              "      <th>tpr</th>\n",
              "      <th>auc</th>\n",
              "    </tr>\n",
              "  </thead>\n",
              "  <tbody>\n",
              "    <tr>\n",
              "      <th>0</th>\n",
              "      <td>Logistic Regression after resample</td>\n",
              "      <td>[0.0, 0.0, 0.0, 0.0005239717055279015, 0.00052...</td>\n",
              "      <td>[0.0, 0.0007032348804500703, 0.030942334739803...</td>\n",
              "      <td>0.881293</td>\n",
              "    </tr>\n",
              "    <tr>\n",
              "      <th>1</th>\n",
              "      <td>Decision Tree Classifier</td>\n",
              "      <td>[0.0, 0.2213780455855384, 0.22347393240764998,...</td>\n",
              "      <td>[0.0, 0.6962025316455697, 0.69901547116737, 0....</td>\n",
              "      <td>0.749761</td>\n",
              "    </tr>\n",
              "    <tr>\n",
              "      <th>2</th>\n",
              "      <td>Bagging Classifier</td>\n",
              "      <td>[0.0, 0.002357872674875557, 0.0034058160859313...</td>\n",
              "      <td>[0.0, 0.24261603375527427, 0.26019690576652604...</td>\n",
              "      <td>0.878506</td>\n",
              "    </tr>\n",
              "    <tr>\n",
              "      <th>3</th>\n",
              "      <td>AdaBoost Classifier</td>\n",
              "      <td>[0.0, 0.0, 0.0, 0.0, 0.0, 0.0, 0.0, 0.0, 0.0, ...</td>\n",
              "      <td>[0.0, 0.0014064697609001407, 0.009142053445850...</td>\n",
              "      <td>0.906800</td>\n",
              "    </tr>\n",
              "    <tr>\n",
              "      <th>4</th>\n",
              "      <td>AdaBoost + RFC</td>\n",
              "      <td>[0.0, 0.0, 0.0, 0.00026198585276395077, 0.0002...</td>\n",
              "      <td>[0.0, 0.0007032348804500703, 0.026722925457102...</td>\n",
              "      <td>0.902578</td>\n",
              "    </tr>\n",
              "  </tbody>\n",
              "</table>\n",
              "</div>"
            ],
            "text/plain": [
              "                          classifiers  ...       auc\n",
              "0  Logistic Regression after resample  ...  0.881293\n",
              "1            Decision Tree Classifier  ...  0.749761\n",
              "2                  Bagging Classifier  ...  0.878506\n",
              "3                 AdaBoost Classifier  ...  0.906800\n",
              "4                      AdaBoost + RFC  ...  0.902578\n",
              "\n",
              "[5 rows x 4 columns]"
            ]
          },
          "metadata": {
            "tags": []
          },
          "execution_count": 76
        }
      ]
    },
    {
      "cell_type": "code",
      "metadata": {
        "id": "arcs2Ntfe_HD",
        "colab": {
          "base_uri": "https://localhost:8080/"
        },
        "outputId": "74e7193b-b9d6-40f9-f463-a81b4a56b969"
      },
      "source": [
        "print_score(b_r_clf, X_train, X_test, y_train, y_test, train=True)"
      ],
      "execution_count": 77,
      "outputs": [
        {
          "output_type": "stream",
          "text": [
            "Train Result:\n",
            "\n",
            "accuracy score: 0.9281\n",
            "\n",
            "Classification Report: \n",
            "               precision    recall  f1-score   support\n",
            "\n",
            "         0.0       0.95      0.91      0.93      6145\n",
            "         1.0       0.90      0.95      0.93      5522\n",
            "\n",
            "    accuracy                           0.93     11667\n",
            "   macro avg       0.93      0.93      0.93     11667\n",
            "weighted avg       0.93      0.93      0.93     11667\n",
            "\n",
            "\n",
            "Confusion Matrix: \n",
            " [[5573  572]\n",
            " [ 267 5255]]\n",
            "\n",
            "ROC AUC: 0.9293\n",
            "\n",
            "Average Accuracy: \t 0.8064\n",
            "Accuracy SD: \t\t 0.0077\n"
          ],
          "name": "stdout"
        }
      ]
    },
    {
      "cell_type": "code",
      "metadata": {
        "id": "XS1s0MBbfAxr",
        "colab": {
          "base_uri": "https://localhost:8080/"
        },
        "outputId": "43a294b7-8078-4901-cfdf-d864b1767f36"
      },
      "source": [
        "print_score(b_r_clf, X_train, X_test, y_train, y_test, train=False) "
      ],
      "execution_count": 78,
      "outputs": [
        {
          "output_type": "stream",
          "text": [
            "Test Result:\n",
            "\n",
            "accuracy score: 0.8175\n",
            "\n",
            "Classification Report: \n",
            "               precision    recall  f1-score   support\n",
            "\n",
            "         0.0       0.92      0.82      0.87      3817\n",
            "         1.0       0.62      0.82      0.71      1422\n",
            "\n",
            "    accuracy                           0.82      5239\n",
            "   macro avg       0.77      0.82      0.79      5239\n",
            "weighted avg       0.84      0.82      0.82      5239\n",
            "\n",
            "\n",
            "Confusion Matrix: \n",
            " [[3114  703]\n",
            " [ 253 1169]]\n",
            "\n",
            "ROC AUC: 0.8190\n",
            "\n"
          ],
          "name": "stdout"
        }
      ]
    },
    {
      "cell_type": "markdown",
      "metadata": {
        "id": "mnymOd6SfCcr"
      },
      "source": [
        "Gradient Boosting"
      ]
    },
    {
      "cell_type": "code",
      "metadata": {
        "id": "0H9UF_hEhfRX"
      },
      "source": [
        "from sklearn.datasets import make_classification\n",
        "from sklearn.ensemble import GradientBoostingClassifier"
      ],
      "execution_count": 79,
      "outputs": []
    },
    {
      "cell_type": "code",
      "metadata": {
        "id": "m8-IuiAdfBLD",
        "colab": {
          "base_uri": "https://localhost:8080/"
        },
        "outputId": "5dd56ee1-0d01-4b5d-df03-67fa7a0320f7"
      },
      "source": [
        "gbc = GradientBoostingClassifier()\n",
        "gbc.fit(X_train, y_train)"
      ],
      "execution_count": 80,
      "outputs": [
        {
          "output_type": "execute_result",
          "data": {
            "text/plain": [
              "GradientBoostingClassifier(ccp_alpha=0.0, criterion='friedman_mse', init=None,\n",
              "                           learning_rate=0.1, loss='deviance', max_depth=3,\n",
              "                           max_features=None, max_leaf_nodes=None,\n",
              "                           min_impurity_decrease=0.0, min_impurity_split=None,\n",
              "                           min_samples_leaf=1, min_samples_split=2,\n",
              "                           min_weight_fraction_leaf=0.0, n_estimators=100,\n",
              "                           n_iter_no_change=None, presort='deprecated',\n",
              "                           random_state=None, subsample=1.0, tol=0.0001,\n",
              "                           validation_fraction=0.1, verbose=0,\n",
              "                           warm_start=False)"
            ]
          },
          "metadata": {
            "tags": []
          },
          "execution_count": 80
        }
      ]
    },
    {
      "cell_type": "code",
      "metadata": {
        "id": "mOY7bLk0tyeG",
        "colab": {
          "base_uri": "https://localhost:8080/",
          "height": 235
        },
        "outputId": "4807353d-c82a-4dbc-c6da-70623b146435"
      },
      "source": [
        "yproba = gbc.predict_proba(X_test)[::,1]\n",
        "fpr, tpr, _ = roc_curve(y_test,  yproba)\n",
        "auc = roc_auc_score(y_test, yproba)\n",
        "result_table = result_table.append({'classifiers':'Gradient Boosting Classifier',\n",
        "                                        'fpr':fpr, \n",
        "                                        'tpr':tpr, \n",
        "                                        'auc':auc}, ignore_index=True)\n",
        "result_table"
      ],
      "execution_count": 81,
      "outputs": [
        {
          "output_type": "execute_result",
          "data": {
            "text/html": [
              "<div>\n",
              "<style scoped>\n",
              "    .dataframe tbody tr th:only-of-type {\n",
              "        vertical-align: middle;\n",
              "    }\n",
              "\n",
              "    .dataframe tbody tr th {\n",
              "        vertical-align: top;\n",
              "    }\n",
              "\n",
              "    .dataframe thead th {\n",
              "        text-align: right;\n",
              "    }\n",
              "</style>\n",
              "<table border=\"1\" class=\"dataframe\">\n",
              "  <thead>\n",
              "    <tr style=\"text-align: right;\">\n",
              "      <th></th>\n",
              "      <th>classifiers</th>\n",
              "      <th>fpr</th>\n",
              "      <th>tpr</th>\n",
              "      <th>auc</th>\n",
              "    </tr>\n",
              "  </thead>\n",
              "  <tbody>\n",
              "    <tr>\n",
              "      <th>0</th>\n",
              "      <td>Logistic Regression after resample</td>\n",
              "      <td>[0.0, 0.0, 0.0, 0.0005239717055279015, 0.00052...</td>\n",
              "      <td>[0.0, 0.0007032348804500703, 0.030942334739803...</td>\n",
              "      <td>0.881293</td>\n",
              "    </tr>\n",
              "    <tr>\n",
              "      <th>1</th>\n",
              "      <td>Decision Tree Classifier</td>\n",
              "      <td>[0.0, 0.2213780455855384, 0.22347393240764998,...</td>\n",
              "      <td>[0.0, 0.6962025316455697, 0.69901547116737, 0....</td>\n",
              "      <td>0.749761</td>\n",
              "    </tr>\n",
              "    <tr>\n",
              "      <th>2</th>\n",
              "      <td>Bagging Classifier</td>\n",
              "      <td>[0.0, 0.002357872674875557, 0.0034058160859313...</td>\n",
              "      <td>[0.0, 0.24261603375527427, 0.26019690576652604...</td>\n",
              "      <td>0.878506</td>\n",
              "    </tr>\n",
              "    <tr>\n",
              "      <th>3</th>\n",
              "      <td>AdaBoost Classifier</td>\n",
              "      <td>[0.0, 0.0, 0.0, 0.0, 0.0, 0.0, 0.0, 0.0, 0.0, ...</td>\n",
              "      <td>[0.0, 0.0014064697609001407, 0.009142053445850...</td>\n",
              "      <td>0.906800</td>\n",
              "    </tr>\n",
              "    <tr>\n",
              "      <th>4</th>\n",
              "      <td>AdaBoost + RFC</td>\n",
              "      <td>[0.0, 0.0, 0.0, 0.00026198585276395077, 0.0002...</td>\n",
              "      <td>[0.0, 0.0007032348804500703, 0.026722925457102...</td>\n",
              "      <td>0.902578</td>\n",
              "    </tr>\n",
              "    <tr>\n",
              "      <th>5</th>\n",
              "      <td>Gradient Boosting Classifier</td>\n",
              "      <td>[0.0, 0.0, 0.0, 0.0, 0.0, 0.0, 0.0, 0.0, 0.000...</td>\n",
              "      <td>[0.0, 0.0007032348804500703, 0.009142053445850...</td>\n",
              "      <td>0.914118</td>\n",
              "    </tr>\n",
              "  </tbody>\n",
              "</table>\n",
              "</div>"
            ],
            "text/plain": [
              "                          classifiers  ...       auc\n",
              "0  Logistic Regression after resample  ...  0.881293\n",
              "1            Decision Tree Classifier  ...  0.749761\n",
              "2                  Bagging Classifier  ...  0.878506\n",
              "3                 AdaBoost Classifier  ...  0.906800\n",
              "4                      AdaBoost + RFC  ...  0.902578\n",
              "5        Gradient Boosting Classifier  ...  0.914118\n",
              "\n",
              "[6 rows x 4 columns]"
            ]
          },
          "metadata": {
            "tags": []
          },
          "execution_count": 81
        }
      ]
    },
    {
      "cell_type": "code",
      "metadata": {
        "id": "_wwqAMXsfFWh",
        "colab": {
          "base_uri": "https://localhost:8080/"
        },
        "outputId": "c03b2d30-c84d-4b2c-c368-43f761eff219"
      },
      "source": [
        "print_score(gbc, X_train, X_test, y_train, y_test, train=True)"
      ],
      "execution_count": 82,
      "outputs": [
        {
          "output_type": "stream",
          "text": [
            "Train Result:\n",
            "\n",
            "accuracy score: 0.8313\n",
            "\n",
            "Classification Report: \n",
            "               precision    recall  f1-score   support\n",
            "\n",
            "         0.0       0.85      0.83      0.84      6145\n",
            "         1.0       0.81      0.83      0.82      5522\n",
            "\n",
            "    accuracy                           0.83     11667\n",
            "   macro avg       0.83      0.83      0.83     11667\n",
            "weighted avg       0.83      0.83      0.83     11667\n",
            "\n",
            "\n",
            "Confusion Matrix: \n",
            " [[5091 1054]\n",
            " [ 914 4608]]\n",
            "\n",
            "ROC AUC: 0.8315\n",
            "\n",
            "Average Accuracy: \t 0.8246\n",
            "Accuracy SD: \t\t 0.0092\n"
          ],
          "name": "stdout"
        }
      ]
    },
    {
      "cell_type": "code",
      "metadata": {
        "id": "Y3ZpOP2CfGx9",
        "colab": {
          "base_uri": "https://localhost:8080/"
        },
        "outputId": "c94b6170-f629-4f8a-9da1-b03b9a4a012d"
      },
      "source": [
        "print_score(gbc, X_train, X_test, y_train, y_test, train=False)  "
      ],
      "execution_count": 83,
      "outputs": [
        {
          "output_type": "stream",
          "text": [
            "Test Result:\n",
            "\n",
            "accuracy score: 0.8276\n",
            "\n",
            "Classification Report: \n",
            "               precision    recall  f1-score   support\n",
            "\n",
            "         0.0       0.93      0.83      0.88      3817\n",
            "         1.0       0.64      0.82      0.72      1422\n",
            "\n",
            "    accuracy                           0.83      5239\n",
            "   macro avg       0.78      0.83      0.80      5239\n",
            "weighted avg       0.85      0.83      0.83      5239\n",
            "\n",
            "\n",
            "Confusion Matrix: \n",
            " [[3170  647]\n",
            " [ 256 1166]]\n",
            "\n",
            "ROC AUC: 0.8252\n",
            "\n"
          ],
          "name": "stdout"
        }
      ]
    },
    {
      "cell_type": "markdown",
      "metadata": {
        "id": "eIHJsq0cfJ8P"
      },
      "source": [
        "XGBoost"
      ]
    },
    {
      "cell_type": "code",
      "metadata": {
        "id": "o215rwTchsRO"
      },
      "source": [
        "import xgboost as xgb"
      ],
      "execution_count": 84,
      "outputs": []
    },
    {
      "cell_type": "code",
      "metadata": {
        "id": "bH69nEUlfQXZ",
        "colab": {
          "base_uri": "https://localhost:8080/"
        },
        "outputId": "040fa198-9839-4fa4-c0fa-6e21919b6629"
      },
      "source": [
        "xg_reg = xgb.XGBClassifier()\n",
        "xg_reg.fit(X_train,y_train)"
      ],
      "execution_count": 85,
      "outputs": [
        {
          "output_type": "execute_result",
          "data": {
            "text/plain": [
              "XGBClassifier(base_score=0.5, booster='gbtree', colsample_bylevel=1,\n",
              "              colsample_bynode=1, colsample_bytree=1, gamma=0,\n",
              "              learning_rate=0.1, max_delta_step=0, max_depth=3,\n",
              "              min_child_weight=1, missing=None, n_estimators=100, n_jobs=1,\n",
              "              nthread=None, objective='binary:logistic', random_state=0,\n",
              "              reg_alpha=0, reg_lambda=1, scale_pos_weight=1, seed=None,\n",
              "              silent=None, subsample=1, verbosity=1)"
            ]
          },
          "metadata": {
            "tags": []
          },
          "execution_count": 85
        }
      ]
    },
    {
      "cell_type": "code",
      "metadata": {
        "id": "7B7NW4h4t_ky",
        "colab": {
          "base_uri": "https://localhost:8080/",
          "height": 266
        },
        "outputId": "2ae96d83-739e-4963-aac8-82098aa310b0"
      },
      "source": [
        "yproba = xg_reg.predict_proba(X_test)[::,1]\n",
        "fpr, tpr, _ = roc_curve(y_test,  yproba)\n",
        "auc = roc_auc_score(y_test, yproba)\n",
        "result_table = result_table.append({'classifiers':'XGBoost',\n",
        "                                        'fpr':fpr, \n",
        "                                        'tpr':tpr, \n",
        "                                        'auc':auc}, ignore_index=True)\n",
        "result_table"
      ],
      "execution_count": 86,
      "outputs": [
        {
          "output_type": "execute_result",
          "data": {
            "text/html": [
              "<div>\n",
              "<style scoped>\n",
              "    .dataframe tbody tr th:only-of-type {\n",
              "        vertical-align: middle;\n",
              "    }\n",
              "\n",
              "    .dataframe tbody tr th {\n",
              "        vertical-align: top;\n",
              "    }\n",
              "\n",
              "    .dataframe thead th {\n",
              "        text-align: right;\n",
              "    }\n",
              "</style>\n",
              "<table border=\"1\" class=\"dataframe\">\n",
              "  <thead>\n",
              "    <tr style=\"text-align: right;\">\n",
              "      <th></th>\n",
              "      <th>classifiers</th>\n",
              "      <th>fpr</th>\n",
              "      <th>tpr</th>\n",
              "      <th>auc</th>\n",
              "    </tr>\n",
              "  </thead>\n",
              "  <tbody>\n",
              "    <tr>\n",
              "      <th>0</th>\n",
              "      <td>Logistic Regression after resample</td>\n",
              "      <td>[0.0, 0.0, 0.0, 0.0005239717055279015, 0.00052...</td>\n",
              "      <td>[0.0, 0.0007032348804500703, 0.030942334739803...</td>\n",
              "      <td>0.881293</td>\n",
              "    </tr>\n",
              "    <tr>\n",
              "      <th>1</th>\n",
              "      <td>Decision Tree Classifier</td>\n",
              "      <td>[0.0, 0.2213780455855384, 0.22347393240764998,...</td>\n",
              "      <td>[0.0, 0.6962025316455697, 0.69901547116737, 0....</td>\n",
              "      <td>0.749761</td>\n",
              "    </tr>\n",
              "    <tr>\n",
              "      <th>2</th>\n",
              "      <td>Bagging Classifier</td>\n",
              "      <td>[0.0, 0.002357872674875557, 0.0034058160859313...</td>\n",
              "      <td>[0.0, 0.24261603375527427, 0.26019690576652604...</td>\n",
              "      <td>0.878506</td>\n",
              "    </tr>\n",
              "    <tr>\n",
              "      <th>3</th>\n",
              "      <td>AdaBoost Classifier</td>\n",
              "      <td>[0.0, 0.0, 0.0, 0.0, 0.0, 0.0, 0.0, 0.0, 0.0, ...</td>\n",
              "      <td>[0.0, 0.0014064697609001407, 0.009142053445850...</td>\n",
              "      <td>0.906800</td>\n",
              "    </tr>\n",
              "    <tr>\n",
              "      <th>4</th>\n",
              "      <td>AdaBoost + RFC</td>\n",
              "      <td>[0.0, 0.0, 0.0, 0.00026198585276395077, 0.0002...</td>\n",
              "      <td>[0.0, 0.0007032348804500703, 0.026722925457102...</td>\n",
              "      <td>0.902578</td>\n",
              "    </tr>\n",
              "    <tr>\n",
              "      <th>5</th>\n",
              "      <td>Gradient Boosting Classifier</td>\n",
              "      <td>[0.0, 0.0, 0.0, 0.0, 0.0, 0.0, 0.0, 0.0, 0.000...</td>\n",
              "      <td>[0.0, 0.0007032348804500703, 0.009142053445850...</td>\n",
              "      <td>0.914118</td>\n",
              "    </tr>\n",
              "    <tr>\n",
              "      <th>6</th>\n",
              "      <td>XGBoost</td>\n",
              "      <td>[0.0, 0.0, 0.0, 0.0, 0.0, 0.0, 0.0, 0.0, 0.0, ...</td>\n",
              "      <td>[0.0, 0.0007032348804500703, 0.001406469760900...</td>\n",
              "      <td>0.915769</td>\n",
              "    </tr>\n",
              "  </tbody>\n",
              "</table>\n",
              "</div>"
            ],
            "text/plain": [
              "                          classifiers  ...       auc\n",
              "0  Logistic Regression after resample  ...  0.881293\n",
              "1            Decision Tree Classifier  ...  0.749761\n",
              "2                  Bagging Classifier  ...  0.878506\n",
              "3                 AdaBoost Classifier  ...  0.906800\n",
              "4                      AdaBoost + RFC  ...  0.902578\n",
              "5        Gradient Boosting Classifier  ...  0.914118\n",
              "6                             XGBoost  ...  0.915769\n",
              "\n",
              "[7 rows x 4 columns]"
            ]
          },
          "metadata": {
            "tags": []
          },
          "execution_count": 86
        }
      ]
    },
    {
      "cell_type": "code",
      "metadata": {
        "id": "mqXKT7SwfR7q",
        "colab": {
          "base_uri": "https://localhost:8080/"
        },
        "outputId": "7c452e34-d21a-4d1c-979f-b87c3c5fd1a0"
      },
      "source": [
        "print_score(xg_reg, X_train, X_test, y_train, y_test, train=True)"
      ],
      "execution_count": 87,
      "outputs": [
        {
          "output_type": "stream",
          "text": [
            "Train Result:\n",
            "\n",
            "accuracy score: 0.8295\n",
            "\n",
            "Classification Report: \n",
            "               precision    recall  f1-score   support\n",
            "\n",
            "         0.0       0.85      0.82      0.84      6145\n",
            "         1.0       0.81      0.84      0.82      5522\n",
            "\n",
            "    accuracy                           0.83     11667\n",
            "   macro avg       0.83      0.83      0.83     11667\n",
            "weighted avg       0.83      0.83      0.83     11667\n",
            "\n",
            "\n",
            "Confusion Matrix: \n",
            " [[5038 1107]\n",
            " [ 882 4640]]\n",
            "\n",
            "ROC AUC: 0.8301\n",
            "\n",
            "Average Accuracy: \t 0.8222\n",
            "Accuracy SD: \t\t 0.0077\n"
          ],
          "name": "stdout"
        }
      ]
    },
    {
      "cell_type": "code",
      "metadata": {
        "id": "hm-ixSObCZpz",
        "colab": {
          "base_uri": "https://localhost:8080/"
        },
        "outputId": "1b799732-70f7-423d-8280-3e066bcacbca"
      },
      "source": [
        "\r\n",
        "print_score(xg_reg, X_train, X_test, y_train, y_test, train=False)"
      ],
      "execution_count": 88,
      "outputs": [
        {
          "output_type": "stream",
          "text": [
            "Test Result:\n",
            "\n",
            "accuracy score: 0.8273\n",
            "\n",
            "Classification Report: \n",
            "               precision    recall  f1-score   support\n",
            "\n",
            "         0.0       0.93      0.83      0.87      3817\n",
            "         1.0       0.64      0.83      0.72      1422\n",
            "\n",
            "    accuracy                           0.83      5239\n",
            "   macro avg       0.78      0.83      0.80      5239\n",
            "weighted avg       0.85      0.83      0.83      5239\n",
            "\n",
            "\n",
            "Confusion Matrix: \n",
            " [[3151  666]\n",
            " [ 239 1183]]\n",
            "\n",
            "ROC AUC: 0.8287\n",
            "\n"
          ],
          "name": "stdout"
        }
      ]
    },
    {
      "cell_type": "markdown",
      "metadata": {
        "id": "KLGL7x0NfY6R"
      },
      "source": [
        "# Stacking"
      ]
    },
    {
      "cell_type": "markdown",
      "metadata": {
        "id": "wjRedhrtfnb7"
      },
      "source": [
        "Meta classifier"
      ]
    },
    {
      "cell_type": "code",
      "metadata": {
        "id": "nIMBW30uf0Wv"
      },
      "source": [
        "# train_pred1\n",
        "import xgboost as xgb\n",
        "xg_reg = xgb.XGBClassifier()\n",
        "xg_reg.fit(X_train,y_train)\n",
        "train_pred1 = pd.DataFrame(xg_reg.predict(X_train))\n",
        "test_pred1 = pd.DataFrame(xg_reg.predict(X_test))"
      ],
      "execution_count": 93,
      "outputs": []
    },
    {
      "cell_type": "code",
      "metadata": {
        "id": "TD2ChP8wf0xU"
      },
      "source": [
        "#model - bagging\n",
        "train_pred2 = pd.DataFrame(bag_clf.predict(X_train))\n",
        "test_pred2 = pd.DataFrame(bag_clf.predict(X_test))"
      ],
      "execution_count": 94,
      "outputs": []
    },
    {
      "cell_type": "code",
      "metadata": {
        "id": "TUcFZRYJf3G6",
        "colab": {
          "base_uri": "https://localhost:8080/"
        },
        "outputId": "68f803b2-aa29-4317-87f3-4fd0c1199e4c"
      },
      "source": [
        "from sklearn.linear_model import LogisticRegression\n",
        "\n",
        "st = pd.concat([train_pred1, train_pred2], axis=1)\n",
        "st_test = pd.concat([test_pred1, test_pred2], axis=1)\n",
        "\n",
        "model = LogisticRegression(random_state = 1)\n",
        "model.fit(st, y_train)"
      ],
      "execution_count": 96,
      "outputs": [
        {
          "output_type": "execute_result",
          "data": {
            "text/plain": [
              "LogisticRegression(C=1.0, class_weight=None, dual=False, fit_intercept=True,\n",
              "                   intercept_scaling=1, l1_ratio=None, max_iter=100,\n",
              "                   multi_class='auto', n_jobs=None, penalty='l2',\n",
              "                   random_state=1, solver='lbfgs', tol=0.0001, verbose=0,\n",
              "                   warm_start=False)"
            ]
          },
          "metadata": {
            "tags": []
          },
          "execution_count": 96
        }
      ]
    },
    {
      "cell_type": "code",
      "metadata": {
        "id": "RrSTp9aJf4an",
        "colab": {
          "base_uri": "https://localhost:8080/"
        },
        "outputId": "e16e50f4-4e31-4fea-d1ce-991f9da76efc"
      },
      "source": [
        "print_score(model, st, st_test, y_train, y_test, train=True)\n"
      ],
      "execution_count": 98,
      "outputs": [
        {
          "output_type": "stream",
          "text": [
            "Train Result:\n",
            "\n",
            "accuracy score: 0.9777\n",
            "\n",
            "Classification Report: \n",
            "               precision    recall  f1-score   support\n",
            "\n",
            "         0.0       0.98      0.97      0.98      6145\n",
            "         1.0       0.97      0.98      0.98      5522\n",
            "\n",
            "    accuracy                           0.98     11667\n",
            "   macro avg       0.98      0.98      0.98     11667\n",
            "weighted avg       0.98      0.98      0.98     11667\n",
            "\n",
            "\n",
            "Confusion Matrix: \n",
            " [[5986  159]\n",
            " [ 101 5421]]\n",
            "\n",
            "ROC AUC: 0.9779\n",
            "\n",
            "Average Accuracy: \t 0.9777\n",
            "Accuracy SD: \t\t 0.0039\n"
          ],
          "name": "stdout"
        }
      ]
    },
    {
      "cell_type": "code",
      "metadata": {
        "id": "yf9sKocZf57R",
        "colab": {
          "base_uri": "https://localhost:8080/"
        },
        "outputId": "1d22af9e-6439-4654-ada5-411df9b16dc7"
      },
      "source": [
        "print_score(model, st , st_test, y_train, y_test, train=False) # test result accuracy of 0.78 "
      ],
      "execution_count": 99,
      "outputs": [
        {
          "output_type": "stream",
          "text": [
            "Test Result:\n",
            "\n",
            "accuracy score: 0.7977\n",
            "\n",
            "Classification Report: \n",
            "               precision    recall  f1-score   support\n",
            "\n",
            "         0.0       0.90      0.81      0.85      3817\n",
            "         1.0       0.60      0.76      0.67      1422\n",
            "\n",
            "    accuracy                           0.80      5239\n",
            "   macro avg       0.75      0.79      0.76      5239\n",
            "weighted avg       0.82      0.80      0.80      5239\n",
            "\n",
            "\n",
            "Confusion Matrix: \n",
            " [[3093  724]\n",
            " [ 336 1086]]\n",
            "\n",
            "ROC AUC: 0.7870\n",
            "\n"
          ],
          "name": "stdout"
        }
      ]
    },
    {
      "cell_type": "markdown",
      "metadata": {
        "id": "8DeoYMaJyWri"
      },
      "source": [
        "# ROC"
      ]
    },
    {
      "cell_type": "code",
      "metadata": {
        "id": "SpNXPtXSDn2N"
      },
      "source": [
        "import matplotlib.pyplot as plt"
      ],
      "execution_count": 100,
      "outputs": []
    },
    {
      "cell_type": "code",
      "metadata": {
        "id": "jCrDyj6Jwo-u",
        "colab": {
          "base_uri": "https://localhost:8080/",
          "height": 411
        },
        "outputId": "4aff07c9-e524-4446-8b5b-f83112f939a3"
      },
      "source": [
        "\n",
        "#result_table.set_index('classifiers', inplace=True)\n",
        "fig = plt.figure(figsize=(8,6))\n",
        "\n",
        "for i in result_table.index:\n",
        "    plt.plot(result_table.loc[i]['fpr'], \n",
        "             result_table.loc[i]['tpr'], \n",
        "             label=\"{}, AUC={:.3f}\".format(i, result_table.loc[i]['auc']))\n",
        "    \n",
        "plt.plot([0,1], [0,1], color='orange', linestyle='--')\n",
        "\n",
        "plt.xticks(np.arange(0.0, 1.1, step=0.1))\n",
        "plt.xlabel(\"FPR\", fontsize=15)\n",
        "\n",
        "plt.yticks(np.arange(0.0, 1.1, step=0.1))\n",
        "plt.ylabel(\"TPR\", fontsize=15)\n",
        "\n",
        "plt.title('ROC Curve Analysis - After Resampling', fontweight='bold', fontsize=15)\n",
        "plt.legend(prop={'size':10}, loc='lower right')\n",
        "\n",
        "plt.show()"
      ],
      "execution_count": 106,
      "outputs": [
        {
          "output_type": "display_data",
          "data": {
            "image/png": "[encoded data removed]",
            "text/plain": [
              "<Figure size 576x432 with 1 Axes>"
            ]
          },
          "metadata": {
            "tags": [],
            "needs_background": "light"
          }
        }
      ]
    },
    {
      "cell_type": "code",
      "metadata": {
        "id": "ICpCEMztwsxd"
      },
      "source": [
        "# fig.savefig('roc_curve_after_resampling.png')"
      ],
      "execution_count": 102,
      "outputs": []
    },
    {
      "cell_type": "code",
      "metadata": {
        "id": "AVuye7F9xZgF",
        "colab": {
          "base_uri": "https://localhost:8080/",
          "height": 428
        },
        "outputId": "f76934a9-799d-4d91-dcb5-4761c28108ea"
      },
      "source": [
        "# result_table1.set_index('classifiers', inplace=True)\r\n",
        "fig = plt.figure(figsize=(8,6))\r\n",
        "\r\n",
        "for i in result_table1.index:\r\n",
        "    plt.plot(result_table1.loc[i]['fpr'], \r\n",
        "             result_table1.loc[i]['tpr'], \r\n",
        "             label=\"{}, AUC={:.3f}\".format(i, result_table1.loc[i]['auc']))\r\n",
        "    \r\n",
        "plt.plot([0,1], [0,1], color='orange', linestyle='--')\r\n",
        "\r\n",
        "plt.xticks(np.arange(0.0, 1.1, step=0.1))\r\n",
        "plt.xlabel(\"FPR\", fontsize=15)\r\n",
        "\r\n",
        "plt.yticks(np.arange(0.0, 1.1, step=0.1))\r\n",
        "plt.ylabel(\"TPR\", fontsize=15)\r\n",
        "\r\n",
        "plt.title('ROC Curve Analysis - Before Resampling', fontweight='bold', fontsize=15)\r\n",
        "plt.legend(prop={'size':10}, loc='lower right')\r\n"
      ],
      "execution_count": 103,
      "outputs": [
        {
          "output_type": "execute_result",
          "data": {
            "text/plain": [
              "<matplotlib.legend.Legend at 0x7f07c5762fd0>"
            ]
          },
          "metadata": {
            "tags": []
          },
          "execution_count": 103
        },
        {
          "output_type": "display_data",
          "data": {
            "image/png": "[encoded data removed]",
            "text/plain": [
              "<Figure size 576x432 with 1 Axes>"
            ]
          },
          "metadata": {
            "tags": [],
            "needs_background": "light"
          }
        }
      ]
    },
    {
      "cell_type": "code",
      "metadata": {
        "id": "64_X1xSvI7xM"
      },
      "source": [
        ""
      ],
      "execution_count": 103,
      "outputs": []
    }
  ]
}